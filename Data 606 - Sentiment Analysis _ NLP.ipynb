{
 "cells": [
  {
   "cell_type": "markdown",
   "metadata": {},
   "source": [
    "# Sentiment Analysis of Amazon Electronic Products Customers Reviews<br> NLP (Natural Language Processing)"
   ]
  },
  {
   "cell_type": "markdown",
   "metadata": {},
   "source": [
    "### Introduction\n",
    "\n",
    "Today’s machines can analyze more language-based data than humans, without fatigue and in a consistent, unbiased way. Considering the staggering amount of unstructured data that’s generated every day, from medical records to social media, automation will be critical to fully analyze text and speech data efficiently.\n",
    "Basic NLP tasks include tokenization and parsing, lemmatization/stemming, part-of-speech tagging, language detection and identification of semantic relationships. In general terms, NLP tasks break down language into shorter, elemental pieces, try to understand relationships between the pieces and explore how the pieces work together to create meaning.\n",
    "\n",
    "There are some challenges when we are processing the language. The text is unstructured and high dimensional in nature which makes it difficult to interpret. The text totally depends on the context and hence its processing stages. So, we have to pay attention to the context in order to interpret it and give a meaning to a word. This notebook provides a supervised way to analyze Amazon Electronic Products Customers Reviews reviews, that is, the model learns from labeled data. "
   ]
  },
  {
   "cell_type": "markdown",
   "metadata": {},
   "source": [
    "### Data Set\n",
    "\n",
    "The dataset has been collected from https://data.world/datafiniti/amazon-and-best-buy-electronics website and is a .csv file with the size of 8.29 MB, consisting of information of over 7,000 online reviews for 50 electronic products from websites like Amazon and Best Buy provided by Datafiniti's Product Database.  This dataset has 20 attributes, writing reviews on Amazon electronic products every day. Each review contains textual feedback along with a 1-to-5-star rating system (1 being least satisfied and 5 being most satisfied).<br>\n",
    "\n",
    "**1. id** - (text)<br>\n",
    "**2. asins** - (text)<br>\n",
    "**3. brand** - (text)<br>\n",
    "**4. categories** - (text)<br>\n",
    "**5. colors** - (text)<br>\n",
    "**6. dateadded** - (timestamp)<br>\n",
    "**7. dateupdated** - (timestamp)<br>\n",
    "**8. dimension** - (text)<br>\n",
    "**9. manufacturernumber** - (text)<br>\n",
    "**10. name** - (text)<br>\n",
    "**11. primarycategories** - (text)<br>\n",
    "**12. reviews_dateSeen** - (text)<br>\n",
    "**13. reviews_doRecommend** - (boolean)<br>\n",
    "**14. reviews_numhelpful** - (numerical)<br>\n",
    "**15. reviews_rating** - (numerical)<br>\n",
    "**16. reviews_sourceUrls** - (url)<br>\n",
    "**17. reviews_text** - (text)<br>\n",
    "**18. reviews_title** - (text)<br>\n",
    "**19. reviews_username** - (text)<br> \n",
    "**20. weight** - (text)<br> "
   ]
  },
  {
   "cell_type": "markdown",
   "metadata": {},
   "source": [
    "### 1. Importing Packages"
   ]
  },
  {
   "cell_type": "code",
   "execution_count": 138,
   "metadata": {},
   "outputs": [],
   "source": [
    "#! pip install nltk\n",
    "#! pip install wordcloud\n",
    "#! pip install -U gensim\n",
    "#! pip install tensorflow --user"
   ]
  },
  {
   "cell_type": "code",
   "execution_count": 141,
   "metadata": {},
   "outputs": [
    {
     "name": "stderr",
     "output_type": "stream",
     "text": [
      "[nltk_data] Downloading package punkt to\n",
      "[nltk_data]     C:\\Users\\sohei\\AppData\\Roaming\\nltk_data...\n",
      "[nltk_data]   Package punkt is already up-to-date!\n",
      "[nltk_data] Downloading package stopwords to\n",
      "[nltk_data]     C:\\Users\\sohei\\AppData\\Roaming\\nltk_data...\n",
      "[nltk_data]   Package stopwords is already up-to-date!\n"
     ]
    },
    {
     "data": {
      "text/plain": [
       "True"
      ]
     },
     "execution_count": 141,
     "metadata": {},
     "output_type": "execute_result"
    }
   ],
   "source": [
    "# General packages\n",
    "import numpy as np\n",
    "import pandas as pd\n",
    "import seaborn as sns\n",
    "import matplotlib.pyplot as plt\n",
    "import os\n",
    "\n",
    "# NLP packages\n",
    "import nltk  # the most famous python module for NLP techniques\n",
    "from nltk import word_tokenize\n",
    "from nltk.tokenize import word_tokenize\n",
    "from sklearn.feature_extraction.text import CountVectorizer\n",
    "from sklearn.feature_extraction.text import TfidfVectorizer\n",
    "from collections import Counter\n",
    "from wordcloud import WordCloud # to express the words in a word cloud (words review visualization)\n",
    "\n",
    "# Modeling packages\n",
    "from sklearn.model_selection import train_test_split\n",
    "from sklearn.linear_model import LogisticRegression\n",
    "from sklearn.ensemble import RandomForestClassifier\n",
    "from sklearn.metrics import accuracy_score\n",
    "from sklearn.metrics import f1_score\n",
    "from sklearn.svm import LinearSVC\n",
    "from sklearn.metrics import classification_report\n",
    "\n",
    "from pylab import rcParams\n",
    "import warnings\n",
    "warnings.filterwarnings(\"ignore\")\n",
    "rcParams['figure.figsize'] = 14, 6\n",
    "plt.style.use('ggplot')\n",
    "\n",
    "import nltk\n",
    "nltk.download('punkt') \n",
    "nltk.download('stopwords')"
   ]
  },
  {
   "cell_type": "markdown",
   "metadata": {},
   "source": [
    "### 2. Importing Data"
   ]
  },
  {
   "cell_type": "code",
   "execution_count": 60,
   "metadata": {
    "scrolled": true
   },
   "outputs": [],
   "source": [
    "# Reading data from .csv file\n",
    "#amazon_ProRev = pd.read_csv('Datafiniti_Amazon_Consumer_Reviews_of_Amazon_Products - Copy.csv')\n",
    "amazon_ProRev = pd.read_csv('DatafinitiElectronicsProductData.csv')"
   ]
  },
  {
   "cell_type": "code",
   "execution_count": 61,
   "metadata": {},
   "outputs": [
    {
     "data": {
      "text/html": [
       "<div>\n",
       "<style scoped>\n",
       "    .dataframe tbody tr th:only-of-type {\n",
       "        vertical-align: middle;\n",
       "    }\n",
       "\n",
       "    .dataframe tbody tr th {\n",
       "        vertical-align: top;\n",
       "    }\n",
       "\n",
       "    .dataframe thead th {\n",
       "        text-align: right;\n",
       "    }\n",
       "</style>\n",
       "<table border=\"1\" class=\"dataframe\">\n",
       "  <thead>\n",
       "    <tr style=\"text-align: right;\">\n",
       "      <th></th>\n",
       "      <th>id</th>\n",
       "      <th>asins</th>\n",
       "      <th>brand</th>\n",
       "      <th>categories</th>\n",
       "      <th>colors</th>\n",
       "      <th>dateAdded</th>\n",
       "      <th>dateUpdated</th>\n",
       "      <th>dimension</th>\n",
       "      <th>manufacturerNumber</th>\n",
       "      <th>name</th>\n",
       "      <th>primaryCategories</th>\n",
       "      <th>reviews_dateSeen</th>\n",
       "      <th>reviews_doRecommend</th>\n",
       "      <th>reviews_numHelpful</th>\n",
       "      <th>reviews_rating</th>\n",
       "      <th>reviews_sourceURLs</th>\n",
       "      <th>reviews_text</th>\n",
       "      <th>reviews_title</th>\n",
       "      <th>reviews_username</th>\n",
       "      <th>weight</th>\n",
       "    </tr>\n",
       "  </thead>\n",
       "  <tbody>\n",
       "    <tr>\n",
       "      <th>0</th>\n",
       "      <td>AVpf3txeLJeJML43FN82</td>\n",
       "      <td>B0168YIWSI</td>\n",
       "      <td>Microsoft</td>\n",
       "      <td>Electronics,Computers,Computer Accessories,Key...</td>\n",
       "      <td>Black</td>\n",
       "      <td>2015-11-13T12:28:09Z</td>\n",
       "      <td>2018-01-29T02:15:13Z</td>\n",
       "      <td>11.6 in x 8.5 in x 0.19 in</td>\n",
       "      <td>RH7-00001</td>\n",
       "      <td>Microsoft Surface Pro 4 Type Cover with Finger...</td>\n",
       "      <td>Electronics</td>\n",
       "      <td>2017-09-03T00:00:00Z,2017-08-27T00:00:00Z,2017...</td>\n",
       "      <td>True</td>\n",
       "      <td>0.0</td>\n",
       "      <td>5.0</td>\n",
       "      <td>http://reviews.bestbuy.com/3545/4562009/review...</td>\n",
       "      <td>This keyboard is very easy to type on, but the...</td>\n",
       "      <td>Love the fingerprint reader</td>\n",
       "      <td>JNH1</td>\n",
       "      <td>1.1 pounds</td>\n",
       "    </tr>\n",
       "    <tr>\n",
       "      <th>1</th>\n",
       "      <td>AVpf3txeLJeJML43FN82</td>\n",
       "      <td>B0168YIWSI</td>\n",
       "      <td>Microsoft</td>\n",
       "      <td>Electronics,Computers,Computer Accessories,Key...</td>\n",
       "      <td>Black</td>\n",
       "      <td>2015-11-13T12:28:09Z</td>\n",
       "      <td>2018-01-29T02:15:13Z</td>\n",
       "      <td>11.6 in x 8.5 in x 0.19 in</td>\n",
       "      <td>RH7-00001</td>\n",
       "      <td>Microsoft Surface Pro 4 Type Cover with Finger...</td>\n",
       "      <td>Electronics</td>\n",
       "      <td>2017-09-03T00:00:00Z,2017-08-27T00:00:00Z,2017...</td>\n",
       "      <td>True</td>\n",
       "      <td>0.0</td>\n",
       "      <td>4.0</td>\n",
       "      <td>http://reviews.bestbuy.com/3545/4562009/review...</td>\n",
       "      <td>It's thin and light. I can type pretty easily ...</td>\n",
       "      <td>Nice</td>\n",
       "      <td>Appa</td>\n",
       "      <td>1.1 pounds</td>\n",
       "    </tr>\n",
       "    <tr>\n",
       "      <th>2</th>\n",
       "      <td>AVpf3txeLJeJML43FN82</td>\n",
       "      <td>B0168YIWSI</td>\n",
       "      <td>Microsoft</td>\n",
       "      <td>Electronics,Computers,Computer Accessories,Key...</td>\n",
       "      <td>Black</td>\n",
       "      <td>2015-11-13T12:28:09Z</td>\n",
       "      <td>2018-01-29T02:15:13Z</td>\n",
       "      <td>11.6 in x 8.5 in x 0.19 in</td>\n",
       "      <td>RH7-00001</td>\n",
       "      <td>Microsoft Surface Pro 4 Type Cover with Finger...</td>\n",
       "      <td>Electronics</td>\n",
       "      <td>2017-09-03T00:00:00Z,2017-08-27T00:00:00Z,2017...</td>\n",
       "      <td>True</td>\n",
       "      <td>0.0</td>\n",
       "      <td>4.0</td>\n",
       "      <td>http://reviews.bestbuy.com/3545/4562009/review...</td>\n",
       "      <td>I love the new design the keys are spaced well...</td>\n",
       "      <td>New</td>\n",
       "      <td>Kman</td>\n",
       "      <td>1.1 pounds</td>\n",
       "    </tr>\n",
       "    <tr>\n",
       "      <th>3</th>\n",
       "      <td>AVpf3txeLJeJML43FN82</td>\n",
       "      <td>B0168YIWSI</td>\n",
       "      <td>Microsoft</td>\n",
       "      <td>Electronics,Computers,Computer Accessories,Key...</td>\n",
       "      <td>Black</td>\n",
       "      <td>2015-11-13T12:28:09Z</td>\n",
       "      <td>2018-01-29T02:15:13Z</td>\n",
       "      <td>11.6 in x 8.5 in x 0.19 in</td>\n",
       "      <td>RH7-00001</td>\n",
       "      <td>Microsoft Surface Pro 4 Type Cover with Finger...</td>\n",
       "      <td>Electronics</td>\n",
       "      <td>2017-09-03T00:00:00Z,2017-08-27T00:00:00Z,2017...</td>\n",
       "      <td>True</td>\n",
       "      <td>0.0</td>\n",
       "      <td>5.0</td>\n",
       "      <td>http://reviews.bestbuy.com/3545/4562009/review...</td>\n",
       "      <td>Attached easily and firmly. Has a nice feel. A...</td>\n",
       "      <td>Nice keyboard</td>\n",
       "      <td>UpstateNY</td>\n",
       "      <td>1.1 pounds</td>\n",
       "    </tr>\n",
       "    <tr>\n",
       "      <th>4</th>\n",
       "      <td>AVpf3txeLJeJML43FN82</td>\n",
       "      <td>B0168YIWSI</td>\n",
       "      <td>Microsoft</td>\n",
       "      <td>Electronics,Computers,Computer Accessories,Key...</td>\n",
       "      <td>Black</td>\n",
       "      <td>2015-11-13T12:28:09Z</td>\n",
       "      <td>2018-01-29T02:15:13Z</td>\n",
       "      <td>11.6 in x 8.5 in x 0.19 in</td>\n",
       "      <td>RH7-00001</td>\n",
       "      <td>Microsoft Surface Pro 4 Type Cover with Finger...</td>\n",
       "      <td>Electronics</td>\n",
       "      <td>2017-09-03T00:00:00Z,2017-08-27T00:00:00Z,2017...</td>\n",
       "      <td>True</td>\n",
       "      <td>0.0</td>\n",
       "      <td>5.0</td>\n",
       "      <td>http://reviews.bestbuy.com/3545/4562009/review...</td>\n",
       "      <td>Our original keyboard was okay, but did not ha...</td>\n",
       "      <td>Nice improvement</td>\n",
       "      <td>Glickster</td>\n",
       "      <td>1.1 pounds</td>\n",
       "    </tr>\n",
       "  </tbody>\n",
       "</table>\n",
       "</div>"
      ],
      "text/plain": [
       "                     id       asins      brand  \\\n",
       "0  AVpf3txeLJeJML43FN82  B0168YIWSI  Microsoft   \n",
       "1  AVpf3txeLJeJML43FN82  B0168YIWSI  Microsoft   \n",
       "2  AVpf3txeLJeJML43FN82  B0168YIWSI  Microsoft   \n",
       "3  AVpf3txeLJeJML43FN82  B0168YIWSI  Microsoft   \n",
       "4  AVpf3txeLJeJML43FN82  B0168YIWSI  Microsoft   \n",
       "\n",
       "                                          categories colors  \\\n",
       "0  Electronics,Computers,Computer Accessories,Key...  Black   \n",
       "1  Electronics,Computers,Computer Accessories,Key...  Black   \n",
       "2  Electronics,Computers,Computer Accessories,Key...  Black   \n",
       "3  Electronics,Computers,Computer Accessories,Key...  Black   \n",
       "4  Electronics,Computers,Computer Accessories,Key...  Black   \n",
       "\n",
       "              dateAdded           dateUpdated                   dimension  \\\n",
       "0  2015-11-13T12:28:09Z  2018-01-29T02:15:13Z  11.6 in x 8.5 in x 0.19 in   \n",
       "1  2015-11-13T12:28:09Z  2018-01-29T02:15:13Z  11.6 in x 8.5 in x 0.19 in   \n",
       "2  2015-11-13T12:28:09Z  2018-01-29T02:15:13Z  11.6 in x 8.5 in x 0.19 in   \n",
       "3  2015-11-13T12:28:09Z  2018-01-29T02:15:13Z  11.6 in x 8.5 in x 0.19 in   \n",
       "4  2015-11-13T12:28:09Z  2018-01-29T02:15:13Z  11.6 in x 8.5 in x 0.19 in   \n",
       "\n",
       "  manufacturerNumber                                               name  \\\n",
       "0          RH7-00001  Microsoft Surface Pro 4 Type Cover with Finger...   \n",
       "1          RH7-00001  Microsoft Surface Pro 4 Type Cover with Finger...   \n",
       "2          RH7-00001  Microsoft Surface Pro 4 Type Cover with Finger...   \n",
       "3          RH7-00001  Microsoft Surface Pro 4 Type Cover with Finger...   \n",
       "4          RH7-00001  Microsoft Surface Pro 4 Type Cover with Finger...   \n",
       "\n",
       "  primaryCategories                                   reviews_dateSeen  \\\n",
       "0       Electronics  2017-09-03T00:00:00Z,2017-08-27T00:00:00Z,2017...   \n",
       "1       Electronics  2017-09-03T00:00:00Z,2017-08-27T00:00:00Z,2017...   \n",
       "2       Electronics  2017-09-03T00:00:00Z,2017-08-27T00:00:00Z,2017...   \n",
       "3       Electronics  2017-09-03T00:00:00Z,2017-08-27T00:00:00Z,2017...   \n",
       "4       Electronics  2017-09-03T00:00:00Z,2017-08-27T00:00:00Z,2017...   \n",
       "\n",
       "  reviews_doRecommend  reviews_numHelpful  reviews_rating  \\\n",
       "0                True                 0.0             5.0   \n",
       "1                True                 0.0             4.0   \n",
       "2                True                 0.0             4.0   \n",
       "3                True                 0.0             5.0   \n",
       "4                True                 0.0             5.0   \n",
       "\n",
       "                                  reviews_sourceURLs  \\\n",
       "0  http://reviews.bestbuy.com/3545/4562009/review...   \n",
       "1  http://reviews.bestbuy.com/3545/4562009/review...   \n",
       "2  http://reviews.bestbuy.com/3545/4562009/review...   \n",
       "3  http://reviews.bestbuy.com/3545/4562009/review...   \n",
       "4  http://reviews.bestbuy.com/3545/4562009/review...   \n",
       "\n",
       "                                        reviews_text  \\\n",
       "0  This keyboard is very easy to type on, but the...   \n",
       "1  It's thin and light. I can type pretty easily ...   \n",
       "2  I love the new design the keys are spaced well...   \n",
       "3  Attached easily and firmly. Has a nice feel. A...   \n",
       "4  Our original keyboard was okay, but did not ha...   \n",
       "\n",
       "                 reviews_title reviews_username      weight  \n",
       "0  Love the fingerprint reader             JNH1  1.1 pounds  \n",
       "1                         Nice             Appa  1.1 pounds  \n",
       "2                          New             Kman  1.1 pounds  \n",
       "3                Nice keyboard        UpstateNY  1.1 pounds  \n",
       "4             Nice improvement        Glickster  1.1 pounds  "
      ]
     },
     "execution_count": 61,
     "metadata": {},
     "output_type": "execute_result"
    }
   ],
   "source": [
    "amazon_ProRev.head(5)"
   ]
  },
  {
   "cell_type": "markdown",
   "metadata": {},
   "source": [
    "### 3. Data Exploration"
   ]
  },
  {
   "cell_type": "code",
   "execution_count": 62,
   "metadata": {},
   "outputs": [
    {
     "name": "stdout",
     "output_type": "stream",
     "text": [
      "<class 'pandas.core.frame.DataFrame'>\n",
      "RangeIndex: 7294 entries, 0 to 7293\n",
      "Data columns (total 20 columns):\n",
      " #   Column               Non-Null Count  Dtype  \n",
      "---  ------               --------------  -----  \n",
      " 0   id                   7294 non-null   object \n",
      " 1   asins                7294 non-null   object \n",
      " 2   brand                7294 non-null   object \n",
      " 3   categories           7294 non-null   object \n",
      " 4   colors               5279 non-null   object \n",
      " 5   dateAdded            7294 non-null   object \n",
      " 6   dateUpdated          7294 non-null   object \n",
      " 7   dimension            6089 non-null   object \n",
      " 8   manufacturerNumber   7294 non-null   object \n",
      " 9   name                 7294 non-null   object \n",
      " 10  primaryCategories    7294 non-null   object \n",
      " 11  reviews_dateSeen     7294 non-null   object \n",
      " 12  reviews_doRecommend  5904 non-null   object \n",
      " 13  reviews_numHelpful   5809 non-null   float64\n",
      " 14  reviews_rating       7130 non-null   float64\n",
      " 15  reviews_sourceURLs   7294 non-null   object \n",
      " 16  reviews_text         7289 non-null   object \n",
      " 17  reviews_title        7290 non-null   object \n",
      " 18  reviews_username     7294 non-null   object \n",
      " 19  weight               7294 non-null   object \n",
      "dtypes: float64(2), object(18)\n",
      "memory usage: 1.1+ MB\n"
     ]
    }
   ],
   "source": [
    "amazon_ProRev.info() "
   ]
  },
  {
   "cell_type": "code",
   "execution_count": 63,
   "metadata": {},
   "outputs": [
    {
     "data": {
      "text/html": [
       "<div>\n",
       "<style scoped>\n",
       "    .dataframe tbody tr th:only-of-type {\n",
       "        vertical-align: middle;\n",
       "    }\n",
       "\n",
       "    .dataframe tbody tr th {\n",
       "        vertical-align: top;\n",
       "    }\n",
       "\n",
       "    .dataframe thead th {\n",
       "        text-align: right;\n",
       "    }\n",
       "</style>\n",
       "<table border=\"1\" class=\"dataframe\">\n",
       "  <thead>\n",
       "    <tr style=\"text-align: right;\">\n",
       "      <th></th>\n",
       "      <th>reviews_numHelpful</th>\n",
       "      <th>reviews_rating</th>\n",
       "    </tr>\n",
       "  </thead>\n",
       "  <tbody>\n",
       "    <tr>\n",
       "      <th>count</th>\n",
       "      <td>5809.00</td>\n",
       "      <td>7130.00</td>\n",
       "    </tr>\n",
       "    <tr>\n",
       "      <th>mean</th>\n",
       "      <td>0.75</td>\n",
       "      <td>4.37</td>\n",
       "    </tr>\n",
       "    <tr>\n",
       "      <th>std</th>\n",
       "      <td>3.42</td>\n",
       "      <td>1.04</td>\n",
       "    </tr>\n",
       "    <tr>\n",
       "      <th>min</th>\n",
       "      <td>0.00</td>\n",
       "      <td>1.00</td>\n",
       "    </tr>\n",
       "    <tr>\n",
       "      <th>25%</th>\n",
       "      <td>0.00</td>\n",
       "      <td>4.00</td>\n",
       "    </tr>\n",
       "    <tr>\n",
       "      <th>50%</th>\n",
       "      <td>0.00</td>\n",
       "      <td>5.00</td>\n",
       "    </tr>\n",
       "    <tr>\n",
       "      <th>75%</th>\n",
       "      <td>0.00</td>\n",
       "      <td>5.00</td>\n",
       "    </tr>\n",
       "    <tr>\n",
       "      <th>max</th>\n",
       "      <td>128.00</td>\n",
       "      <td>5.00</td>\n",
       "    </tr>\n",
       "  </tbody>\n",
       "</table>\n",
       "</div>"
      ],
      "text/plain": [
       "       reviews_numHelpful  reviews_rating\n",
       "count             5809.00         7130.00\n",
       "mean                 0.75            4.37\n",
       "std                  3.42            1.04\n",
       "min                  0.00            1.00\n",
       "25%                  0.00            4.00\n",
       "50%                  0.00            5.00\n",
       "75%                  0.00            5.00\n",
       "max                128.00            5.00"
      ]
     },
     "metadata": {},
     "output_type": "display_data"
    }
   ],
   "source": [
    "display(amazon_ProRev.describe().round(2))"
   ]
  },
  {
   "cell_type": "markdown",
   "metadata": {},
   "source": [
    "### 4. Handling Missing Values"
   ]
  },
  {
   "cell_type": "code",
   "execution_count": 64,
   "metadata": {},
   "outputs": [
    {
     "data": {
      "text/plain": [
       "id                     False\n",
       "asins                  False\n",
       "brand                  False\n",
       "categories             False\n",
       "colors                  True\n",
       "dateAdded              False\n",
       "dateUpdated            False\n",
       "dimension               True\n",
       "manufacturerNumber     False\n",
       "name                   False\n",
       "primaryCategories      False\n",
       "reviews_dateSeen       False\n",
       "reviews_doRecommend     True\n",
       "reviews_numHelpful      True\n",
       "reviews_rating          True\n",
       "reviews_sourceURLs     False\n",
       "reviews_text            True\n",
       "reviews_title           True\n",
       "reviews_username       False\n",
       "weight                 False\n",
       "dtype: bool"
      ]
     },
     "execution_count": 64,
     "metadata": {},
     "output_type": "execute_result"
    }
   ],
   "source": [
    "amazon_ProRev.isnull().any()"
   ]
  },
  {
   "cell_type": "code",
   "execution_count": 65,
   "metadata": {
    "scrolled": true
   },
   "outputs": [
    {
     "data": {
      "text/plain": [
       "id                        0\n",
       "asins                     0\n",
       "brand                     0\n",
       "categories                0\n",
       "colors                 2015\n",
       "dateAdded                 0\n",
       "dateUpdated               0\n",
       "dimension              1205\n",
       "manufacturerNumber        0\n",
       "name                      0\n",
       "primaryCategories         0\n",
       "reviews_dateSeen          0\n",
       "reviews_doRecommend    1390\n",
       "reviews_numHelpful     1485\n",
       "reviews_rating          164\n",
       "reviews_sourceURLs        0\n",
       "reviews_text              5\n",
       "reviews_title             4\n",
       "reviews_username          0\n",
       "weight                    0\n",
       "dtype: int64"
      ]
     },
     "execution_count": 65,
     "metadata": {},
     "output_type": "execute_result"
    }
   ],
   "source": [
    "amazon_ProRev.isnull().sum()"
   ]
  },
  {
   "cell_type": "code",
   "execution_count": 66,
   "metadata": {},
   "outputs": [],
   "source": [
    "# Replacing reviews_numHelpful missing values with zero value\n",
    "amazon_ProRev['reviews_numHelpful'] = amazon_ProRev['reviews_numHelpful'].fillna(0)"
   ]
  },
  {
   "cell_type": "code",
   "execution_count": 67,
   "metadata": {},
   "outputs": [],
   "source": [
    "# Replacing reviews_rating missing values with value of 3 (netural rating)\n",
    "amazon_ProRev['reviews_rating'] = amazon_ProRev['reviews_rating'].fillna(3)"
   ]
  },
  {
   "cell_type": "code",
   "execution_count": 68,
   "metadata": {},
   "outputs": [],
   "source": [
    "# Replacing colors missing values with 'not selected' text\n",
    "#amazon_ProRev['colors'] = amazon_ProRev['colors'].fillna('not selected')"
   ]
  },
  {
   "cell_type": "code",
   "execution_count": 69,
   "metadata": {},
   "outputs": [
    {
     "data": {
      "text/plain": [
       "id                        0\n",
       "asins                     0\n",
       "brand                     0\n",
       "categories                0\n",
       "colors                 2015\n",
       "dateAdded                 0\n",
       "dateUpdated               0\n",
       "dimension              1205\n",
       "manufacturerNumber        0\n",
       "name                      0\n",
       "primaryCategories         0\n",
       "reviews_dateSeen          0\n",
       "reviews_doRecommend    1390\n",
       "reviews_numHelpful        0\n",
       "reviews_rating            0\n",
       "reviews_sourceURLs        0\n",
       "reviews_text              5\n",
       "reviews_title             4\n",
       "reviews_username          0\n",
       "weight                    0\n",
       "dtype: int64"
      ]
     },
     "execution_count": 69,
     "metadata": {},
     "output_type": "execute_result"
    }
   ],
   "source": [
    "amazon_ProRev.isna().sum()"
   ]
  },
  {
   "cell_type": "code",
   "execution_count": 70,
   "metadata": {},
   "outputs": [],
   "source": [
    "# Dropping Null values of dimension, reviews_date, reviews_doRecommend, reviews_text, reviews_title columns\n",
    "amazon_ProRev.dropna(how='any', inplace=True)"
   ]
  },
  {
   "cell_type": "code",
   "execution_count": 71,
   "metadata": {},
   "outputs": [
    {
     "data": {
      "text/plain": [
       "id                     0\n",
       "asins                  0\n",
       "brand                  0\n",
       "categories             0\n",
       "colors                 0\n",
       "dateAdded              0\n",
       "dateUpdated            0\n",
       "dimension              0\n",
       "manufacturerNumber     0\n",
       "name                   0\n",
       "primaryCategories      0\n",
       "reviews_dateSeen       0\n",
       "reviews_doRecommend    0\n",
       "reviews_numHelpful     0\n",
       "reviews_rating         0\n",
       "reviews_sourceURLs     0\n",
       "reviews_text           0\n",
       "reviews_title          0\n",
       "reviews_username       0\n",
       "weight                 0\n",
       "dtype: int64"
      ]
     },
     "execution_count": 71,
     "metadata": {},
     "output_type": "execute_result"
    }
   ],
   "source": [
    "amazon_ProRev.isnull().sum()"
   ]
  },
  {
   "cell_type": "code",
   "execution_count": 72,
   "metadata": {},
   "outputs": [],
   "source": [
    "#amazon_ProRev.info() "
   ]
  },
  {
   "cell_type": "code",
   "execution_count": 73,
   "metadata": {},
   "outputs": [],
   "source": [
    "#print(amazon_ProRev.loc[amazon_ProRev.reviews_title.isnull()])"
   ]
  },
  {
   "cell_type": "markdown",
   "metadata": {},
   "source": [
    "### 5. Data Visualization"
   ]
  },
  {
   "cell_type": "markdown",
   "metadata": {},
   "source": [
    "Performing some basic exploratory data analysis to analyze the frequency of the words in each of the reviews. Accessing the text and applying a lambda function to split the text by the spaces of the reviews and getting the words followed by counting the words per review. Drawing the words into a histogram.\n",
    "\n",
    "Let's look at the distribution of the number of words per review."
   ]
  },
  {
   "cell_type": "code",
   "execution_count": 74,
   "metadata": {},
   "outputs": [
    {
     "data": {
      "image/png": "[encoded data removed]",
      "text/plain": [
       "<Figure size 792x288 with 1 Axes>"
      ]
     },
     "metadata": {},
     "output_type": "display_data"
    }
   ],
   "source": [
    "# Getting the number of words by splitting them by a space\n",
    "numof_words_per_review = amazon_ProRev.reviews_text.apply(lambda x: len(x.split(\" \")))\n",
    "numof_words_per_review.hist(bins=100, color='darkblue', figsize=(11, 4))\n",
    "plt.xlabel('Number of Words')\n",
    "plt.ylabel('Frequancy')\n",
    "plt.show() "
   ]
  },
  {
   "cell_type": "code",
   "execution_count": 75,
   "metadata": {},
   "outputs": [],
   "source": [
    "#print(numof_words_per_review)"
   ]
  },
  {
   "cell_type": "code",
   "execution_count": 76,
   "metadata": {
    "scrolled": true
   },
   "outputs": [
    {
     "name": "stdout",
     "output_type": "stream",
     "text": [
      "Average words: 46.53851870200644\n",
      "Skewness: 8.246140800837248\n"
     ]
    }
   ],
   "source": [
    "print('Average words:', numof_words_per_review.mean())\n",
    "print('Skewness:', numof_words_per_review.skew())"
   ]
  },
  {
   "cell_type": "markdown",
   "metadata": {},
   "source": [
    "The graph is positively skewed and shows almost all the reviews have less than 250 words that is very important for us because, to analyze the reviews we need to know how this dimensional space is looking like (200 words per review as maximum and 30 words as average review).\n",
    "\n",
    "Let's also look at the distribution of ratings (scores)."
   ]
  },
  {
   "cell_type": "code",
   "execution_count": 77,
   "metadata": {},
   "outputs": [
    {
     "data": {
      "text/plain": [
       "5.0    62.843696\n",
       "4.0    25.613079\n",
       "3.0     5.771613\n",
       "1.0     3.344067\n",
       "2.0     2.427545\n",
       "Name: reviews_rating, dtype: float64"
      ]
     },
     "execution_count": 77,
     "metadata": {},
     "output_type": "execute_result"
    }
   ],
   "source": [
    "# calculating the rating percentage\n",
    "rating_percentVal = 100* amazon_ProRev['reviews_rating'].value_counts()/len(amazon_ProRev)\n",
    "rating_percentVal"
   ]
  },
  {
   "cell_type": "markdown",
   "metadata": {},
   "source": [
    "Looking at the results, 62.84% of reviews have 5 stars, 25.61% have 4 stars, 5.77% have 3 stars, 3.34% have 1 stars and 2.42% have 2 star.\n",
    "\n",
    "A better visualization these percentages were shown in the bar graph."
   ]
  },
  {
   "cell_type": "code",
   "execution_count": 78,
   "metadata": {
    "scrolled": true
   },
   "outputs": [
    {
     "data": {
      "image/png": "[encoded data removed]",
      "text/plain": [
       "<Figure size 720x288 with 1 Axes>"
      ]
     },
     "metadata": {},
     "output_type": "display_data"
    }
   ],
   "source": [
    "# scores distribution\n",
    "rating_percentVal.plot.bar(figsize=(10,4), color='darkblue')\n",
    "plt.xlabel('product rating [1..5]')\n",
    "plt.ylabel('rating percentage')\n",
    "plt.show()"
   ]
  },
  {
   "cell_type": "markdown",
   "metadata": {},
   "source": [
    "The distribution is quite skewed, with a large number of 5s and very few 3s, 2s, and 1s."
   ]
  },
  {
   "cell_type": "code",
   "execution_count": 79,
   "metadata": {},
   "outputs": [
    {
     "data": {
      "image/png": "[encoded data removed]",
      "text/plain": [
       "<Figure size 432x432 with 1 Axes>"
      ]
     },
     "metadata": {},
     "output_type": "display_data"
    }
   ],
   "source": [
    "import matplotlib.pyplot as plt\n",
    "\n",
    "fig, ax = plt.subplots(figsize=(6, 6))\n",
    "\n",
    "labels = 'Rate 5', 'Rate 4', 'Rate 3', 'Rate 1', 'Rate 2'\n",
    "explode = [0,0,0.1,0,0] # To slice the perticuler section\n",
    "colors = [\"c\", 'b','r','aqua','purple'] # Color of each section\n",
    "textprops = {\"fontsize\":15} # Font size of text in pie chart\n",
    "\n",
    "amazon_ProRev.value_counts('reviews_rating').plot.pie(autopct='%0.1f%%', fontsize=10, shadow=False, radius = 0.7, \n",
    "                                                      colors =colors, explode=(0.03, 0.02, 0.02, 0.01, 0.02),startangle = 400  \n",
    "                                                       ,center=(2, 3), labels=labels, labeldistance=1.25, rotatelabels=True) \n",
    "\n",
    "plt.title('Reviews Rating Percentages', fontsize=15, loc='center', y=0.85)\n",
    "plt.legend(loc=\"center left\")\n",
    "\n",
    "plt.tight_layout()\n",
    "plt.show() "
   ]
  },
  {
   "cell_type": "markdown",
   "metadata": {},
   "source": [
    "### 6. Data Visualization using Word Cloud"
   ]
  },
  {
   "cell_type": "markdown",
   "metadata": {},
   "source": [
    "Word cloud lets us visualize what the distribution of the text looks like. If the frequency of the word in all the reviews is high, the word appears large and if it's low the word appears small.\n",
    "\n",
    "Visualization is crucial for numerical data and also important for the text data. However, the text does not lend itself to histogram charts or scatterplots, as numerical data does. In such cases, the word clouds are a common and very useful tool to appreciate the text distribution.\n",
    "\n",
    "To make a word cloud of the string values of the text data, we are going to import the **WordCloud** package (install it with pip install wordcloud) and join all the text with the **.join()** method."
   ]
  },
  {
   "cell_type": "code",
   "execution_count": 80,
   "metadata": {
    "scrolled": true
   },
   "outputs": [
    {
     "data": {
      "image/png": "[encoded data removed]",
      "text/plain": [
       "<Figure size 1008x432 with 1 Axes>"
      ]
     },
     "metadata": {},
     "output_type": "display_data"
    }
   ],
   "source": [
    "# Joining all the reviews from dataset in a general string \n",
    "text_word_cloud = ''.join(amazon_ProRev['reviews_text'])\n",
    "\n",
    "# generating word cloud using WordCloud package and generate() function \n",
    "wc = WordCloud(max_font_size=100, # Maximum font size for the largest word\n",
    "               max_words=200, # Maximum number of words\n",
    "               background_color=\"white\", # background color of the word cloud image\n",
    "               scale=10, # Scaling between computation and drawing\n",
    "               width=800, # Width of the canvas\n",
    "               height=400 # Height of the canvas \n",
    "              ).generate(text_word_cloud)\n",
    "\n",
    "plt.figure()\n",
    "plt.imshow(wc, interpolation=\"bilinear\") # to make the displayed image appear more smoothly\n",
    "plt.axis(\"off\")\n",
    "plt.show()"
   ]
  },
  {
   "cell_type": "markdown",
   "metadata": {},
   "source": [
    "As a distribution of the text in a visualization way, a word cloud displays the words in different sizes, indicating the frequency of the each word in the text. Looking at the word cloud, it shows that the reviews are related to the electronic products such as: \"Speakers\", \"Headphones\", \"Keyboard\", etc. \u000b",
    "Some words are related to the customers experiences, such as: \"good\", \"love\", \"best\", \"great\" and some are not desired ones like, \"much\" (determiner) and \"something\" (adverb), which might not give us any insights about the reviews. So, we need to use the techniques to delete or drop these words.\n"
   ]
  },
  {
   "cell_type": "code",
   "execution_count": 81,
   "metadata": {},
   "outputs": [
    {
     "data": {
      "text/plain": [
       "['.',\n",
       " 'the',\n",
       " 'to',\n",
       " 'and',\n",
       " ',',\n",
       " 'I',\n",
       " 'a',\n",
       " 'it',\n",
       " 'is',\n",
       " 'for',\n",
       " 'of',\n",
       " 'with',\n",
       " 'my',\n",
       " 'this',\n",
       " 'you',\n",
       " 'that',\n",
       " 'on',\n",
       " 'have',\n",
       " 'in',\n",
       " '!',\n",
       " 'The',\n",
       " 'sound',\n",
       " 'but',\n",
       " 'was',\n",
       " 'great',\n",
       " 'not',\n",
       " 'speaker',\n",
       " 'as',\n",
       " 'remote',\n",
       " \"n't\",\n",
       " 'use',\n",
       " 'are',\n",
       " 'It',\n",
       " 'can',\n",
       " 'up',\n",
       " 'one',\n",
       " 'very',\n",
       " \"'s\",\n",
       " 'be',\n",
       " 'This',\n",
       " 'all',\n",
       " 'at',\n",
       " 'or',\n",
       " 'so',\n",
       " 'good',\n",
       " 'easy',\n",
       " 'has',\n",
       " 'from',\n",
       " 'your',\n",
       " 'when']"
      ]
     },
     "execution_count": 81,
     "metadata": {},
     "output_type": "execute_result"
    }
   ],
   "source": [
    "# Splitting text into word\n",
    "reviews = amazon_ProRev['reviews_text'].str.cat(sep=' ')\n",
    "\n",
    "#function to split text into word\n",
    "tokens = word_tokenize(reviews)\n",
    "vocabulary = set(tokens)\n",
    "#print(len(vocabulary))\n",
    "\n",
    "frequency_dist = nltk.FreqDist(tokens)\n",
    "sorted(frequency_dist,key=frequency_dist.__getitem__, reverse=True)[0:50]\n",
    "\n",
    "#print(frequency_dist.keys())\n",
    "#print(frequency_dist.values())"
   ]
  },
  {
   "attachments": {},
   "cell_type": "markdown",
   "metadata": {},
   "source": [
    "### 7. Data Prepration<br>"
   ]
  },
  {
   "cell_type": "markdown",
   "metadata": {},
   "source": [
    "The most important step to analyze the data, is to clean and prepare the dataset. A good model is not only dependent on the algorithm, but on a clean dataset mostly. There are many tactics in Text Data Processing, such as:\n",
    "- Remove non-alphanumeric characters, except for white space.\n",
    "- Convert all characters to lowercase, in order to treat the words such as “Hello”, “hello”, “HELLO”, “HEllO” all the same.\n",
    "- Consider Tokenization, Stemming, and lemmatization.\n",
    "- and so on.<br>\n",
    "\n",
    "In addition to a clean dataset, since machine learning models always take numeric values as input, we need to represent text as a vector of “number” to satisfy the requirement.\n",
    "\n",
    "In order to have a sentiment analysis we start with performing data preparation. "
   ]
  },
  {
   "cell_type": "markdown",
   "metadata": {},
   "source": [
    "### 8. Standardization the Ratings"
   ]
  },
  {
   "cell_type": "markdown",
   "metadata": {},
   "source": [
    "For the purposes of sentiment analysis, we will convert all of the ratings into binary values using the following rule:\n",
    "\n",
    "- Ratings of 4 or 5 will get mapped to 1 and will be related to positive reviews.\n",
    "- Ratings of 1 or 2 will get mapped to 0 and will be related to negative reviews.\n",
    "- Ratings of 3 will get removed since they will represent neutral reviews.\n",
    "\n",
    "We can achieve these mappings by using **.where()** function which filters the rating values to 0 and 1. If the score is greater than 3 it will represent as 1, otherwise represent as 0."
   ]
  },
  {
   "cell_type": "code",
   "execution_count": 82,
   "metadata": {
    "scrolled": true
   },
   "outputs": [
    {
     "data": {
      "text/plain": [
       "1    3571\n",
       "0     233\n",
       "Name: Sentiment_rating, dtype: int64"
      ]
     },
     "execution_count": 82,
     "metadata": {},
     "output_type": "execute_result"
    }
   ],
   "source": [
    "# Mapping the ratings\n",
    "amazon_ProRev['Sentiment_rating'] = np.where(amazon_ProRev.reviews_rating > 3,1,0)\n",
    "\n",
    "# Removing neutral reviews. \n",
    "# We don't consider the 3 ratings which represents the neutral reviews, only positive(1) and negetive(0) will be analyzed.\n",
    "amazon_ProRev = amazon_ProRev[amazon_ProRev.reviews_rating != 3]\n",
    "\n",
    "# Printing the counts of each class\n",
    "amazon_ProRev['Sentiment_rating'].value_counts()"
   ]
  },
  {
   "cell_type": "markdown",
   "metadata": {},
   "source": [
    "Looking at the results, showing that most of the reviews are positive."
   ]
  },
  {
   "cell_type": "code",
   "execution_count": 83,
   "metadata": {},
   "outputs": [
    {
     "data": {
      "image/png": "[encoded data removed]",
      "text/plain": [
       "<Figure size 720x288 with 1 Axes>"
      ]
     },
     "metadata": {},
     "output_type": "display_data"
    }
   ],
   "source": [
    "# ploting the distribution of the number of positive and negative reviews\n",
    "amazon_ProRev.Sentiment_rating.value_counts().plot.bar(figsize=(10,4), color='darkblue')\n",
    "plt.xlabel('reviews [1: positive, 0: negative]')\n",
    "plt.ylabel('Sentiment_rating')\n",
    "plt.show()\n"
   ]
  },
  {
   "cell_type": "markdown",
   "metadata": {},
   "source": [
    "There is a class imbalance that we are going to handle by defining robust metrics as the f1 score."
   ]
  },
  {
   "cell_type": "markdown",
   "metadata": {},
   "source": [
    "### 9. Data Pre-processing\n",
    "\n",
    "\n",
    "Text preprocessing and normalization is crucial before building a proper NLP model. Some of the important steps are:\n",
    "\n",
    "- Converting words to lower/upper case\n",
    "- Removing special characters\n",
    "- Removing stopwords and high/low-frequency words\n",
    "- Stemming/lemmatization"
   ]
  },
  {
   "cell_type": "markdown",
   "metadata": {},
   "source": [
    "**1. Converting words to lower/upper case**\n",
    "\n",
    "We start by converting all of the words into a consistent case format, say lowercase by using **.lower()** function."
   ]
  },
  {
   "cell_type": "code",
   "execution_count": 84,
   "metadata": {},
   "outputs": [
    {
     "name": "stdout",
     "output_type": "stream",
     "text": [
      "0       this keyboard is very easy to type on, but the...\n",
      "1       it's thin and light. i can type pretty easily ...\n",
      "2       i love the new design the keys are spaced well...\n",
      "3       attached easily and firmly. has a nice feel. a...\n",
      "4       our original keyboard was okay, but did not ha...\n",
      "                              ...                        \n",
      "7287    best feature is being rechargableworks nice, t...\n",
      "7288    i'm still trying to learn all the features of ...\n",
      "7289     great sound system would definitely recommend...\n",
      "7290    i hated my cable company bulky remote control ...\n",
      "7291    we were forced to add a cable box as charter c...\n",
      "Name: lowercase_text_reviews, Length: 3804, dtype: object\n"
     ]
    }
   ],
   "source": [
    "# Converting text reviews to lowercase using lower() function\n",
    "amazon_ProRev['lowercase_text_reviews'] = amazon_ProRev['reviews_text'].str.lower()\n",
    "\n",
    "print(amazon_ProRev['lowercase_text_reviews'])\n",
    "#print(amazon_ProRev['lowercase_text_reviews'][6])"
   ]
  },
  {
   "cell_type": "markdown",
   "metadata": {},
   "source": [
    "In the following code we analyze the number of unique words that are found in reviews. This process of extracting individual words is called word tokenization, and can be run using the **.word_tokenize()** function from nltk package."
   ]
  },
  {
   "cell_type": "code",
   "execution_count": 85,
   "metadata": {},
   "outputs": [
    {
     "data": {
      "text/plain": [
       "['I',\n",
       " 'love',\n",
       " 'it',\n",
       " '.',\n",
       " 'It',\n",
       " 'does',\n",
       " 'so',\n",
       " 'much',\n",
       " 'and',\n",
       " 'is',\n",
       " 'so',\n",
       " 'easy',\n",
       " 'to',\n",
       " 'use',\n",
       " '.',\n",
       " 'I',\n",
       " 'use',\n",
       " 'it',\n",
       " 'mostly',\n",
       " 'for',\n",
       " 'music',\n",
       " 'and',\n",
       " 'questions',\n",
       " '.',\n",
       " ':',\n",
       " 'D']"
      ]
     },
     "execution_count": 85,
     "metadata": {},
     "output_type": "execute_result"
    }
   ],
   "source": [
    "from nltk import word_tokenize\n",
    "\n",
    "# Word tokenization example:\n",
    "word_tokenize(\"I love it. It does so much and is so easy to use. I use it mostly for music and questions. :D\")"
   ]
  },
  {
   "cell_type": "code",
   "execution_count": 86,
   "metadata": {},
   "outputs": [
    {
     "name": "stdout",
     "output_type": "stream",
     "text": [
      "Number of unique tokens then:  9963\n",
      "Number of unique tokens now:  8378\n"
     ]
    }
   ],
   "source": [
    "# Number of tokens before converting reviews to lowercase\n",
    "token_lists = [word_tokenize(each) for each in amazon_ProRev['reviews_text']]\n",
    "tokens = [item for sublist in token_lists for item in sublist]\n",
    "print(\"Number of unique tokens then: \",len(set(tokens)))\n",
    "\n",
    "# Number of tokens after converting reviews to lowercase\n",
    "token_lists_lower = [word_tokenize(each) for each in amazon_ProRev['lowercase_text_reviews']]\n",
    "tokens_lower = [item for sublist in token_lists_lower for item in sublist]\n",
    "print(\"Number of unique tokens now: \",len(set(tokens_lower)))"
   ]
  },
  {
   "cell_type": "markdown",
   "metadata": {},
   "source": [
    "The result shows that the number of tokens has gone down by ~16% by converting the tokens to the lowercase from normalizing the corpus. So we reduced the bias by applying the lowercase transformation to the words and expressed all the words in a standard and normalized way (lowercase)."
   ]
  },
  {
   "cell_type": "markdown",
   "metadata": {},
   "source": [
    "**2. Removing special characters**\n",
    "\n",
    "After we transformed the text into lowercase we remove some special characters that aren't going to give us insights. \n",
    "\n",
    "The following gives a list of all the special characters in our dataset by applying **.isalnum()** function which checks whether a string contains only letters or numbers or both. If all characters are alphanumeric, isalnum() returns the value True ; otherwise, the method returns the value False"
   ]
  },
  {
   "cell_type": "code",
   "execution_count": 87,
   "metadata": {},
   "outputs": [
    {
     "data": {
      "text/plain": [
       "{'!',\n",
       " '\"',\n",
       " '#',\n",
       " '$',\n",
       " '%',\n",
       " '&',\n",
       " \"'\",\n",
       " '(',\n",
       " ')',\n",
       " '*',\n",
       " '+',\n",
       " ',',\n",
       " '-',\n",
       " '.',\n",
       " '/',\n",
       " ':',\n",
       " ';',\n",
       " '=',\n",
       " '?',\n",
       " '@',\n",
       " '[',\n",
       " ']',\n",
       " '~',\n",
       " '®',\n",
       " '°',\n",
       " '–',\n",
       " '—',\n",
       " '‘',\n",
       " '’',\n",
       " '“',\n",
       " '”',\n",
       " '…',\n",
       " '™'}"
      ]
     },
     "execution_count": 87,
     "metadata": {},
     "output_type": "execute_result"
    }
   ],
   "source": [
    "# Selecting non alpha numeric charactes that are not spaces using isalnum() function - \n",
    "spl_chars = amazon_ProRev['lowercase_text_reviews'].apply(lambda review: \n",
    "                                                     [char for char in list(review) if not char.isalnum() and char != ' '])\n",
    "#print(spl_chars)\n",
    "\n",
    "# Getting list of list into a single list\n",
    "flat_list = [item for sublist in spl_chars for item in sublist]\n",
    " \n",
    "# Unique special characters - Create a set containing special characters\n",
    "set(flat_list)"
   ]
  },
  {
   "cell_type": "markdown",
   "metadata": {},
   "source": [
    "Now we remove these special characters from the reviews by applying a regular expression and using **.replace()** function."
   ]
  },
  {
   "cell_type": "markdown",
   "metadata": {},
   "source": [
    "Removing special characters is a subjective call, especially in cases like this one. People often use special characters to express their emotions and might leave a review like 'This product is the worst!!!', while a positive review could be like 'This product is the best. Loved it!'. Here, the presence of exclamation marks clearly indicates something about the underlying sentiment, so removing them may well not be a good idea.\n",
    "\n",
    "On the other hand, removing non-emotionally charged punctuation such as commas, periods, and semicolons is likely safe."
   ]
  },
  {
   "cell_type": "code",
   "execution_count": 88,
   "metadata": {},
   "outputs": [],
   "source": [
    "# removing the special characters \n",
    "review_copy = amazon_ProRev['lowercase_text_reviews'].copy()\n",
    "amazon_ProRev['lowercase_text_reviews'] = amazon_ProRev['lowercase_text_reviews'].str.replace(r'[^A-Za-z0-9 ]+', ' ')"
   ]
  },
  {
   "cell_type": "markdown",
   "metadata": {},
   "source": [
    "In the regular expression [^A-Za-z0-9 ]+:\n",
    "\n",
    "- [ ]: match any character inside the list defined by the square brackets, including the space character ' '\n",
    "- ^: start of the line\n",
    "- A-Z: accept english upper case characters from A to Z\n",
    "- a-z: accept english lower case characters from a to z\n",
    "- 0-9: accept single number characters from 0 to 9\n",
    "\n",
    "\n",
    "We can see how our reviews change after removing these characters."
   ]
  },
  {
   "cell_type": "code",
   "execution_count": 89,
   "metadata": {},
   "outputs": [
    {
     "name": "stdout",
     "output_type": "stream",
     "text": [
      "-- Old Review --\n",
      "our original keyboard was okay, but did not have a laptop feel to it, a bit floppy. the new one has a solid feel to it and the keys are more laptop-like.\n",
      "\n",
      "-- New Review --\n",
      "our original keyboard was okay  but did not have a laptop feel to it  a bit floppy  the new one has a solid feel to it and the keys are more laptop like \n"
     ]
    }
   ],
   "source": [
    "print(\"-- Old Review --\")\n",
    "#print(review_copy.values[2])\n",
    "print(review_copy[4])\n",
    "print(\"\\n-- New Review --\")\n",
    "print(amazon_ProRev['lowercase_text_reviews'][4])"
   ]
  },
  {
   "cell_type": "markdown",
   "metadata": {},
   "source": [
    "As we can see in previous reviews we have all special characters and in the new reviews all were dropped and replaced with space, so the new reviews are going to be the reviews to be analyzed."
   ]
  },
  {
   "cell_type": "code",
   "execution_count": 90,
   "metadata": {},
   "outputs": [
    {
     "name": "stdout",
     "output_type": "stream",
     "text": [
      "Number of unique tokens then:  8378\n",
      "Number of unique tokens now:  7260\n"
     ]
    }
   ],
   "source": [
    "#token_lists = [word_tokenize(each) for each in amazon_ProRev['reviews_text']]\n",
    "token_lists = [word_tokenize(each) for each in review_copy]\n",
    "\n",
    "tokens = [item for sublist in token_lists for item in sublist]\n",
    "print(\"Number of unique tokens then: \",len(set(tokens)))\n",
    "\n",
    "token_lists = [word_tokenize(each) for each in amazon_ProRev['lowercase_text_reviews']]\n",
    "tokens = [item for sublist in token_lists for item in sublist]\n",
    "print(\"Number of unique tokens now: \",len(set(tokens)))"
   ]
  },
  {
   "cell_type": "markdown",
   "metadata": {},
   "source": [
    "So, the number of tokens dropped to 7260 after removing the special characters from the reviews."
   ]
  },
  {
   "cell_type": "markdown",
   "metadata": {},
   "source": [
    "**3. Stopwords and high/low frequency words**<br>\n",
    "\n",
    "Stopwords naturally occur very frequently in the English language without adding any specific insights and it makes sense to remove them. Here are the list of languages are available in the nltk package."
   ]
  },
  {
   "cell_type": "code",
   "execution_count": 91,
   "metadata": {},
   "outputs": [
    {
     "name": "stdout",
     "output_type": "stream",
     "text": [
      "All Languages in NLTK: \n",
      "\n",
      "['arabic', 'azerbaijani', 'danish', 'dutch', 'english', 'finnish', 'french', 'german', 'greek', 'hungarian', 'indonesian', 'italian', 'kazakh', 'nepali', 'norwegian', 'portuguese', 'romanian', 'russian', 'slovene', 'spanish', 'swedish', 'tajik', 'turkish']\n"
     ]
    }
   ],
   "source": [
    "from nltk.corpus import stopwords\n",
    "\n",
    "print('All Languages in NLTK: \\n')\n",
    "print(stopwords.fileids())"
   ]
  },
  {
   "cell_type": "markdown",
   "metadata": {},
   "source": [
    "Some languages are not included in this package, but there are other packages like inltk to process reviews in different languages. "
   ]
  },
  {
   "cell_type": "markdown",
   "metadata": {},
   "source": [
    "Let's now review the list of English stopwords. These stopwords are not giving us much insight about the review, so we might want to discard these words."
   ]
  },
  {
   "cell_type": "code",
   "execution_count": 92,
   "metadata": {},
   "outputs": [
    {
     "data": {
      "text/plain": [
       "['i',\n",
       " 'me',\n",
       " 'my',\n",
       " 'myself',\n",
       " 'we',\n",
       " 'our',\n",
       " 'ours',\n",
       " 'ourselves',\n",
       " 'you',\n",
       " \"you're\",\n",
       " \"you've\",\n",
       " \"you'll\",\n",
       " \"you'd\",\n",
       " 'your',\n",
       " 'yours',\n",
       " 'yourself',\n",
       " 'yourselves',\n",
       " 'he',\n",
       " 'him',\n",
       " 'his',\n",
       " 'himself',\n",
       " 'she',\n",
       " \"she's\",\n",
       " 'her',\n",
       " 'hers',\n",
       " 'herself',\n",
       " 'it',\n",
       " \"it's\",\n",
       " 'its',\n",
       " 'itself',\n",
       " 'they',\n",
       " 'them',\n",
       " 'their',\n",
       " 'theirs',\n",
       " 'themselves',\n",
       " 'what',\n",
       " 'which',\n",
       " 'who',\n",
       " 'whom',\n",
       " 'this',\n",
       " 'that',\n",
       " \"that'll\",\n",
       " 'these',\n",
       " 'those',\n",
       " 'am',\n",
       " 'is',\n",
       " 'are',\n",
       " 'was',\n",
       " 'were',\n",
       " 'be',\n",
       " 'been',\n",
       " 'being',\n",
       " 'have',\n",
       " 'has',\n",
       " 'had',\n",
       " 'having',\n",
       " 'do',\n",
       " 'does',\n",
       " 'did',\n",
       " 'doing',\n",
       " 'a',\n",
       " 'an',\n",
       " 'the',\n",
       " 'and',\n",
       " 'but',\n",
       " 'if',\n",
       " 'or',\n",
       " 'because',\n",
       " 'as',\n",
       " 'until',\n",
       " 'while',\n",
       " 'of',\n",
       " 'at',\n",
       " 'by',\n",
       " 'for',\n",
       " 'with',\n",
       " 'about',\n",
       " 'against',\n",
       " 'between',\n",
       " 'into',\n",
       " 'through',\n",
       " 'during',\n",
       " 'before',\n",
       " 'after',\n",
       " 'above',\n",
       " 'below',\n",
       " 'to',\n",
       " 'from',\n",
       " 'up',\n",
       " 'down',\n",
       " 'in',\n",
       " 'out',\n",
       " 'on',\n",
       " 'off',\n",
       " 'over',\n",
       " 'under',\n",
       " 'again',\n",
       " 'further',\n",
       " 'then',\n",
       " 'once',\n",
       " 'here',\n",
       " 'there',\n",
       " 'when',\n",
       " 'where',\n",
       " 'why',\n",
       " 'how',\n",
       " 'all',\n",
       " 'any',\n",
       " 'both',\n",
       " 'each',\n",
       " 'few',\n",
       " 'more',\n",
       " 'most',\n",
       " 'other',\n",
       " 'some',\n",
       " 'such',\n",
       " 'no',\n",
       " 'nor',\n",
       " 'not',\n",
       " 'only',\n",
       " 'own',\n",
       " 'same',\n",
       " 'so',\n",
       " 'than',\n",
       " 'too',\n",
       " 'very',\n",
       " 's',\n",
       " 't',\n",
       " 'can',\n",
       " 'will',\n",
       " 'just',\n",
       " 'don',\n",
       " \"don't\",\n",
       " 'should',\n",
       " \"should've\",\n",
       " 'now',\n",
       " 'd',\n",
       " 'll',\n",
       " 'm',\n",
       " 'o',\n",
       " 're',\n",
       " 've',\n",
       " 'y',\n",
       " 'ain',\n",
       " 'aren',\n",
       " \"aren't\",\n",
       " 'couldn',\n",
       " \"couldn't\",\n",
       " 'didn',\n",
       " \"didn't\",\n",
       " 'doesn',\n",
       " \"doesn't\",\n",
       " 'hadn',\n",
       " \"hadn't\",\n",
       " 'hasn',\n",
       " \"hasn't\",\n",
       " 'haven',\n",
       " \"haven't\",\n",
       " 'isn',\n",
       " \"isn't\",\n",
       " 'ma',\n",
       " 'mightn',\n",
       " \"mightn't\",\n",
       " 'mustn',\n",
       " \"mustn't\",\n",
       " 'needn',\n",
       " \"needn't\",\n",
       " 'shan',\n",
       " \"shan't\",\n",
       " 'shouldn',\n",
       " \"shouldn't\",\n",
       " 'wasn',\n",
       " \"wasn't\",\n",
       " 'weren',\n",
       " \"weren't\",\n",
       " 'won',\n",
       " \"won't\",\n",
       " 'wouldn',\n",
       " \"wouldn't\"]"
      ]
     },
     "execution_count": 92,
     "metadata": {},
     "output_type": "execute_result"
    }
   ],
   "source": [
    "noise_words = []\n",
    "eng_stop_words = stopwords.words('english')\n",
    "eng_stop_words"
   ]
  },
  {
   "cell_type": "markdown",
   "metadata": {},
   "source": [
    "Now we remove these stopwords from the reviews. To do this, we tokenize the reviews and add the tokens into seperate lists (stopword and none-stopword)."
   ]
  },
  {
   "cell_type": "code",
   "execution_count": 93,
   "metadata": {
    "scrolled": true
   },
   "outputs": [
    {
     "name": "stdout",
     "output_type": "stream",
     "text": [
      "-- Original Sentence --\n",
      " it s thin and light  i can type pretty easily on it \n",
      "\n",
      "-- Stopwords in the sentence --\n",
      " ['it', 's', 'and', 'i', 'can', 'on', 'it']\n",
      "\n",
      "-- Non-stopwords in the sentence --\n",
      " ['thin', 'light', 'type', 'pretty', 'easily']\n"
     ]
    }
   ],
   "source": [
    "# seperating stopwords and non-stopwords from the reviews\n",
    "stop_words = set(eng_stop_words)\n",
    "del_stop_words = []\n",
    "stopword = []\n",
    "\n",
    "# using review number 0 as an example\n",
    "sentence = amazon_ProRev['lowercase_text_reviews'][1] \n",
    "\n",
    "# tokenize a sentence to the seperate tokens\n",
    "words = nltk.word_tokenize(sentence)\n",
    "\n",
    "# Adding words into different array, stopwords and without stopwords(del_stop_words)\n",
    "for word in words:\n",
    "    if word in stop_words:\n",
    "        stopword.append(word)\n",
    "    else:\n",
    "        del_stop_words.append(word)\n",
    "        \n",
    "print('-- Original Sentence --\\n', sentence)\n",
    "print('\\n-- Stopwords in the sentence --\\n', stopword)\n",
    "print('\\n-- Non-stopwords in the sentence --\\n', del_stop_words)"
   ]
  },
  {
   "cell_type": "markdown",
   "metadata": {},
   "source": [
    "Now, we use reviews without stopwords for analyzing the words since they give us the insight. To delete the stopwords we define **.remove_stopwords()** function to return a list of non-stopwords of all the reviews."
   ]
  },
  {
   "cell_type": "code",
   "execution_count": 94,
   "metadata": {
    "scrolled": false
   },
   "outputs": [
    {
     "data": {
      "text/html": [
       "<div>\n",
       "<style scoped>\n",
       "    .dataframe tbody tr th:only-of-type {\n",
       "        vertical-align: middle;\n",
       "    }\n",
       "\n",
       "    .dataframe tbody tr th {\n",
       "        vertical-align: top;\n",
       "    }\n",
       "\n",
       "    .dataframe thead th {\n",
       "        text-align: right;\n",
       "    }\n",
       "</style>\n",
       "<table border=\"1\" class=\"dataframe\">\n",
       "  <thead>\n",
       "    <tr style=\"text-align: right;\">\n",
       "      <th></th>\n",
       "      <th>lowercase_text_reviews</th>\n",
       "      <th>withoutstop_reviews_text</th>\n",
       "    </tr>\n",
       "  </thead>\n",
       "  <tbody>\n",
       "    <tr>\n",
       "      <th>0</th>\n",
       "      <td>this keyboard is very easy to type on  but the...</td>\n",
       "      <td>[keyboard, easy, type, fingerprint, reader, be...</td>\n",
       "    </tr>\n",
       "    <tr>\n",
       "      <th>1</th>\n",
       "      <td>it s thin and light  i can type pretty easily ...</td>\n",
       "      <td>[thin, light, type, pretty, easily]</td>\n",
       "    </tr>\n",
       "    <tr>\n",
       "      <th>2</th>\n",
       "      <td>i love the new design the keys are spaced well...</td>\n",
       "      <td>[love, new, design, keys, spaced, well, mis, t...</td>\n",
       "    </tr>\n",
       "    <tr>\n",
       "      <th>3</th>\n",
       "      <td>attached easily and firmly  has a nice feel  a...</td>\n",
       "      <td>[attached, easily, firmly, nice, feel, must, s...</td>\n",
       "    </tr>\n",
       "    <tr>\n",
       "      <th>4</th>\n",
       "      <td>our original keyboard was okay  but did not ha...</td>\n",
       "      <td>[original, keyboard, okay, laptop, feel, bit, ...</td>\n",
       "    </tr>\n",
       "    <tr>\n",
       "      <th>...</th>\n",
       "      <td>...</td>\n",
       "      <td>...</td>\n",
       "    </tr>\n",
       "    <tr>\n",
       "      <th>7287</th>\n",
       "      <td>best feature is being rechargableworks nice  t...</td>\n",
       "      <td>[best, feature, rechargableworks, nice, touch,...</td>\n",
       "    </tr>\n",
       "    <tr>\n",
       "      <th>7288</th>\n",
       "      <td>i m still trying to learn all the features of ...</td>\n",
       "      <td>[still, trying, learn, features, controller, t...</td>\n",
       "    </tr>\n",
       "    <tr>\n",
       "      <th>7289</th>\n",
       "      <td>great sound system would definitely recommend</td>\n",
       "      <td>[great, sound, system, would, definitely, reco...</td>\n",
       "    </tr>\n",
       "    <tr>\n",
       "      <th>7290</th>\n",
       "      <td>i hated my cable company bulky remote control ...</td>\n",
       "      <td>[hated, cable, company, bulky, remote, control...</td>\n",
       "    </tr>\n",
       "    <tr>\n",
       "      <th>7291</th>\n",
       "      <td>we were forced to add a cable box as charter c...</td>\n",
       "      <td>[forced, add, cable, box, charter, cable, swit...</td>\n",
       "    </tr>\n",
       "  </tbody>\n",
       "</table>\n",
       "<p>3804 rows × 2 columns</p>\n",
       "</div>"
      ],
      "text/plain": [
       "                                 lowercase_text_reviews  \\\n",
       "0     this keyboard is very easy to type on  but the...   \n",
       "1     it s thin and light  i can type pretty easily ...   \n",
       "2     i love the new design the keys are spaced well...   \n",
       "3     attached easily and firmly  has a nice feel  a...   \n",
       "4     our original keyboard was okay  but did not ha...   \n",
       "...                                                 ...   \n",
       "7287  best feature is being rechargableworks nice  t...   \n",
       "7288  i m still trying to learn all the features of ...   \n",
       "7289     great sound system would definitely recommend    \n",
       "7290  i hated my cable company bulky remote control ...   \n",
       "7291  we were forced to add a cable box as charter c...   \n",
       "\n",
       "                               withoutstop_reviews_text  \n",
       "0     [keyboard, easy, type, fingerprint, reader, be...  \n",
       "1                   [thin, light, type, pretty, easily]  \n",
       "2     [love, new, design, keys, spaced, well, mis, t...  \n",
       "3     [attached, easily, firmly, nice, feel, must, s...  \n",
       "4     [original, keyboard, okay, laptop, feel, bit, ...  \n",
       "...                                                 ...  \n",
       "7287  [best, feature, rechargableworks, nice, touch,...  \n",
       "7288  [still, trying, learn, features, controller, t...  \n",
       "7289  [great, sound, system, would, definitely, reco...  \n",
       "7290  [hated, cable, company, bulky, remote, control...  \n",
       "7291  [forced, add, cable, box, charter, cable, swit...  \n",
       "\n",
       "[3804 rows x 2 columns]"
      ]
     },
     "execution_count": 94,
     "metadata": {},
     "output_type": "execute_result"
    }
   ],
   "source": [
    "def remove_stopwords(stop_words, sentence):\n",
    "    return [word for word in nltk.word_tokenize(sentence) if word not in stop_words]\n",
    "\n",
    "amazon_ProRev['withoutstop_reviews_text'] = amazon_ProRev['lowercase_text_reviews'].apply(lambda row: remove_stopwords(stop_words, row))\n",
    "amazon_ProRev[['lowercase_text_reviews','withoutstop_reviews_text']]"
   ]
  },
  {
   "cell_type": "markdown",
   "metadata": {},
   "source": [
    "**4. Stemming & lemmatization**<br>\n",
    "\n",
    "Now we are ready for the last part of our pre-processing - stemming & lemmatization.\n",
    "\n",
    "**Stemming** is the process of reducing inflection in words to their root forms such as mapping a group of words to the same stem even if the stem itself is not a valid word in the Language. It works by cutting off the end or the beginning of the word, taking into account a list of common prefixes and suffixes that can be found.\n",
    "\n",
    "**Lemmatization** takes into consideration the morphological analysis of the words. So lemmatization considers the grammar of the word and tries to find the root word instead of just getting to the root word by brute force methods."
   ]
  },
  {
   "cell_type": "code",
   "execution_count": 95,
   "metadata": {},
   "outputs": [
    {
     "name": "stderr",
     "output_type": "stream",
     "text": [
      "[nltk_data] Downloading package wordnet to\n",
      "[nltk_data]     C:\\Users\\sohei\\AppData\\Roaming\\nltk_data...\n",
      "[nltk_data]   Package wordnet is already up-to-date!\n"
     ]
    }
   ],
   "source": [
    "from nltk.stem import PorterStemmer, LancasterStemmer # Common Stemmers\n",
    "from nltk.stem import WordNetLemmatizer # Common Lemmatizer\n",
    "nltk.download('wordnet') #The WordNet is a part of Python's Natural Language Toolkit. \n",
    "                         #It is a large word database of English Nouns, Adjectives, Adverbs and Verbs.\n",
    "from nltk.corpus import wordnet\n",
    "\n",
    "porter = PorterStemmer()\n",
    "lancaster = LancasterStemmer()\n",
    "lemmatizer = WordNetLemmatizer()"
   ]
  },
  {
   "cell_type": "code",
   "execution_count": 96,
   "metadata": {
    "scrolled": false
   },
   "outputs": [
    {
     "data": {
      "text/html": [
       "<div>\n",
       "<style scoped>\n",
       "    .dataframe tbody tr th:only-of-type {\n",
       "        vertical-align: middle;\n",
       "    }\n",
       "\n",
       "    .dataframe tbody tr th {\n",
       "        vertical-align: top;\n",
       "    }\n",
       "\n",
       "    .dataframe thead th {\n",
       "        text-align: right;\n",
       "    }\n",
       "</style>\n",
       "<table border=\"1\" class=\"dataframe\">\n",
       "  <thead>\n",
       "    <tr style=\"text-align: right;\">\n",
       "      <th></th>\n",
       "      <th>withoutstop_reviews_text</th>\n",
       "      <th>stemmed_reviews_text</th>\n",
       "    </tr>\n",
       "  </thead>\n",
       "  <tbody>\n",
       "    <tr>\n",
       "      <th>0</th>\n",
       "      <td>[keyboard, easy, type, fingerprint, reader, be...</td>\n",
       "      <td>[keyboard , easi , type , fingerprint , reader...</td>\n",
       "    </tr>\n",
       "    <tr>\n",
       "      <th>1</th>\n",
       "      <td>[thin, light, type, pretty, easily]</td>\n",
       "      <td>[thin , light , type , pretti , easili ]</td>\n",
       "    </tr>\n",
       "    <tr>\n",
       "      <th>2</th>\n",
       "      <td>[love, new, design, keys, spaced, well, mis, t...</td>\n",
       "      <td>[love , new , design , key , space , well , mi...</td>\n",
       "    </tr>\n",
       "    <tr>\n",
       "      <th>3</th>\n",
       "      <td>[attached, easily, firmly, nice, feel, must, s...</td>\n",
       "      <td>[attach , easili , firmli , nice , feel , must...</td>\n",
       "    </tr>\n",
       "    <tr>\n",
       "      <th>4</th>\n",
       "      <td>[original, keyboard, okay, laptop, feel, bit, ...</td>\n",
       "      <td>[origin , keyboard , okay , laptop , feel , bi...</td>\n",
       "    </tr>\n",
       "    <tr>\n",
       "      <th>...</th>\n",
       "      <td>...</td>\n",
       "      <td>...</td>\n",
       "    </tr>\n",
       "    <tr>\n",
       "      <th>7287</th>\n",
       "      <td>[best, feature, rechargableworks, nice, touch,...</td>\n",
       "      <td>[best , featur , rechargablework , nice , touc...</td>\n",
       "    </tr>\n",
       "    <tr>\n",
       "      <th>7288</th>\n",
       "      <td>[still, trying, learn, features, controller, t...</td>\n",
       "      <td>[still , tri , learn , featur , control , thin...</td>\n",
       "    </tr>\n",
       "    <tr>\n",
       "      <th>7289</th>\n",
       "      <td>[great, sound, system, would, definitely, reco...</td>\n",
       "      <td>[great , sound , system , would , definit , re...</td>\n",
       "    </tr>\n",
       "    <tr>\n",
       "      <th>7290</th>\n",
       "      <td>[hated, cable, company, bulky, remote, control...</td>\n",
       "      <td>[hate , cabl , compani , bulki , remot , contr...</td>\n",
       "    </tr>\n",
       "    <tr>\n",
       "      <th>7291</th>\n",
       "      <td>[forced, add, cable, box, charter, cable, swit...</td>\n",
       "      <td>[forc , add , cabl , box , charter , cabl , sw...</td>\n",
       "    </tr>\n",
       "  </tbody>\n",
       "</table>\n",
       "<p>3804 rows × 2 columns</p>\n",
       "</div>"
      ],
      "text/plain": [
       "                               withoutstop_reviews_text  \\\n",
       "0     [keyboard, easy, type, fingerprint, reader, be...   \n",
       "1                   [thin, light, type, pretty, easily]   \n",
       "2     [love, new, design, keys, spaced, well, mis, t...   \n",
       "3     [attached, easily, firmly, nice, feel, must, s...   \n",
       "4     [original, keyboard, okay, laptop, feel, bit, ...   \n",
       "...                                                 ...   \n",
       "7287  [best, feature, rechargableworks, nice, touch,...   \n",
       "7288  [still, trying, learn, features, controller, t...   \n",
       "7289  [great, sound, system, would, definitely, reco...   \n",
       "7290  [hated, cable, company, bulky, remote, control...   \n",
       "7291  [forced, add, cable, box, charter, cable, swit...   \n",
       "\n",
       "                                   stemmed_reviews_text  \n",
       "0     [keyboard , easi , type , fingerprint , reader...  \n",
       "1              [thin , light , type , pretti , easili ]  \n",
       "2     [love , new , design , key , space , well , mi...  \n",
       "3     [attach , easili , firmli , nice , feel , must...  \n",
       "4     [origin , keyboard , okay , laptop , feel , bi...  \n",
       "...                                                 ...  \n",
       "7287  [best , featur , rechargablework , nice , touc...  \n",
       "7288  [still , tri , learn , featur , control , thin...  \n",
       "7289  [great , sound , system , would , definit , re...  \n",
       "7290  [hate , cabl , compani , bulki , remot , contr...  \n",
       "7291  [forc , add , cabl , box , charter , cabl , sw...  \n",
       "\n",
       "[3804 rows x 2 columns]"
      ]
     },
     "execution_count": 96,
     "metadata": {},
     "output_type": "execute_result"
    }
   ],
   "source": [
    "# defining stemSentence() function to do data stemming\n",
    "from nltk.stem.porter import *\n",
    "stemmer = PorterStemmer()\n",
    "\n",
    "def stemSentence(sentence):\n",
    "    token_words=word_tokenize(sentence)\n",
    "    token_words\n",
    "    stem_sentence=[]\n",
    "    for word in token_words:\n",
    "        stem_sentence.append(porter.stem(word))\n",
    "        stem_sentence.append(\" \")\n",
    "    return \"\".join(stem_sentence)\n",
    "#df['stemmed'] = df['unstemmed'].apply(lambda x: [stemmer.stem(y) for y in x]) \n",
    "amazon_ProRev['stemmed_reviews_text'] = amazon_ProRev['withoutstop_reviews_text'].apply(lambda x: [stemSentence(y) for y in x])\n",
    "amazon_ProRev[['withoutstop_reviews_text','stemmed_reviews_text']]"
   ]
  },
  {
   "cell_type": "code",
   "execution_count": 97,
   "metadata": {},
   "outputs": [
    {
     "data": {
      "text/html": [
       "<div>\n",
       "<style scoped>\n",
       "    .dataframe tbody tr th:only-of-type {\n",
       "        vertical-align: middle;\n",
       "    }\n",
       "\n",
       "    .dataframe tbody tr th {\n",
       "        vertical-align: top;\n",
       "    }\n",
       "\n",
       "    .dataframe thead th {\n",
       "        text-align: right;\n",
       "    }\n",
       "</style>\n",
       "<table border=\"1\" class=\"dataframe\">\n",
       "  <thead>\n",
       "    <tr style=\"text-align: right;\">\n",
       "      <th></th>\n",
       "      <th>withoutstop_reviews_text</th>\n",
       "      <th>lemma_reviews_text</th>\n",
       "    </tr>\n",
       "  </thead>\n",
       "  <tbody>\n",
       "    <tr>\n",
       "      <th>0</th>\n",
       "      <td>[keyboard, easy, type, fingerprint, reader, be...</td>\n",
       "      <td>[keyboard , easy , type , fingerprint , reader...</td>\n",
       "    </tr>\n",
       "    <tr>\n",
       "      <th>1</th>\n",
       "      <td>[thin, light, type, pretty, easily]</td>\n",
       "      <td>[thin , light , type , pretty , easily ]</td>\n",
       "    </tr>\n",
       "    <tr>\n",
       "      <th>2</th>\n",
       "      <td>[love, new, design, keys, spaced, well, mis, t...</td>\n",
       "      <td>[love , new , design , key , space , well , mi...</td>\n",
       "    </tr>\n",
       "    <tr>\n",
       "      <th>3</th>\n",
       "      <td>[attached, easily, firmly, nice, feel, must, s...</td>\n",
       "      <td>[attach , easily , firmly , nice , feel , must...</td>\n",
       "    </tr>\n",
       "    <tr>\n",
       "      <th>4</th>\n",
       "      <td>[original, keyboard, okay, laptop, feel, bit, ...</td>\n",
       "      <td>[original , keyboard , okay , laptop , feel , ...</td>\n",
       "    </tr>\n",
       "    <tr>\n",
       "      <th>...</th>\n",
       "      <td>...</td>\n",
       "      <td>...</td>\n",
       "    </tr>\n",
       "    <tr>\n",
       "      <th>7287</th>\n",
       "      <td>[best, feature, rechargableworks, nice, touch,...</td>\n",
       "      <td>[best , feature , rechargableworks , nice , to...</td>\n",
       "    </tr>\n",
       "    <tr>\n",
       "      <th>7288</th>\n",
       "      <td>[still, trying, learn, features, controller, t...</td>\n",
       "      <td>[still , try , learn , feature , controller , ...</td>\n",
       "    </tr>\n",
       "    <tr>\n",
       "      <th>7289</th>\n",
       "      <td>[great, sound, system, would, definitely, reco...</td>\n",
       "      <td>[great , sound , system , would , definitely ,...</td>\n",
       "    </tr>\n",
       "    <tr>\n",
       "      <th>7290</th>\n",
       "      <td>[hated, cable, company, bulky, remote, control...</td>\n",
       "      <td>[hat , cable , company , bulky , remote , cont...</td>\n",
       "    </tr>\n",
       "    <tr>\n",
       "      <th>7291</th>\n",
       "      <td>[forced, add, cable, box, charter, cable, swit...</td>\n",
       "      <td>[force , add , cable , box , charter , cable ,...</td>\n",
       "    </tr>\n",
       "  </tbody>\n",
       "</table>\n",
       "<p>3804 rows × 2 columns</p>\n",
       "</div>"
      ],
      "text/plain": [
       "                               withoutstop_reviews_text  \\\n",
       "0     [keyboard, easy, type, fingerprint, reader, be...   \n",
       "1                   [thin, light, type, pretty, easily]   \n",
       "2     [love, new, design, keys, spaced, well, mis, t...   \n",
       "3     [attached, easily, firmly, nice, feel, must, s...   \n",
       "4     [original, keyboard, okay, laptop, feel, bit, ...   \n",
       "...                                                 ...   \n",
       "7287  [best, feature, rechargableworks, nice, touch,...   \n",
       "7288  [still, trying, learn, features, controller, t...   \n",
       "7289  [great, sound, system, would, definitely, reco...   \n",
       "7290  [hated, cable, company, bulky, remote, control...   \n",
       "7291  [forced, add, cable, box, charter, cable, swit...   \n",
       "\n",
       "                                     lemma_reviews_text  \n",
       "0     [keyboard , easy , type , fingerprint , reader...  \n",
       "1              [thin , light , type , pretty , easily ]  \n",
       "2     [love , new , design , key , space , well , mi...  \n",
       "3     [attach , easily , firmly , nice , feel , must...  \n",
       "4     [original , keyboard , okay , laptop , feel , ...  \n",
       "...                                                 ...  \n",
       "7287  [best , feature , rechargableworks , nice , to...  \n",
       "7288  [still , try , learn , feature , controller , ...  \n",
       "7289  [great , sound , system , would , definitely ,...  \n",
       "7290  [hat , cable , company , bulky , remote , cont...  \n",
       "7291  [force , add , cable , box , charter , cable ,...  \n",
       "\n",
       "[3804 rows x 2 columns]"
      ]
     },
     "execution_count": 97,
     "metadata": {},
     "output_type": "execute_result"
    }
   ],
   "source": [
    "# defining lemmSentence() function to do data lemmatization \n",
    "def lemmSentence(sentence):\n",
    "    token_words=word_tokenize(sentence)\n",
    "    token_words\n",
    "    lemma_sentence=[]\n",
    "    for word in token_words:\n",
    "        lemma_sentence.append(lemmatizer.lemmatize(word, pos=\"v\"))\n",
    "        lemma_sentence.append(\" \")\n",
    "    return \"\".join(lemma_sentence)\n",
    "\n",
    "amazon_ProRev['lemma_reviews_text'] = amazon_ProRev['withoutstop_reviews_text'].apply(lambda x: [lemmSentence(y) for y in x])\n",
    "amazon_ProRev[['withoutstop_reviews_text','lemma_reviews_text']]"
   ]
  },
  {
   "cell_type": "markdown",
   "metadata": {},
   "source": [
    "Once we have applied these four-step exploratory data analysis procedures, including, transform the reviews to the lowercase, deleted the special characters, removed the stop words and stemmed and lemmatized the text we can go to the modeling stage."
   ]
  },
  {
   "cell_type": "markdown",
   "metadata": {},
   "source": [
    "### 10. Building a Machine Learning Model \n",
    "\n",
    "We have already done the exploratory data analysis and now we can go to the modeling stage. This is a supervised learning analysis as we have the target variable and we are going to apply some classification models into this target variable.\n",
    "\n",
    "Now we have cleaned-up versions of two very important pieces of data – the actual review text and its corresponding sentiment rating."
   ]
  },
  {
   "cell_type": "code",
   "execution_count": 98,
   "metadata": {},
   "outputs": [
    {
     "data": {
      "text/html": [
       "<div>\n",
       "<style scoped>\n",
       "    .dataframe tbody tr th:only-of-type {\n",
       "        vertical-align: middle;\n",
       "    }\n",
       "\n",
       "    .dataframe tbody tr th {\n",
       "        vertical-align: top;\n",
       "    }\n",
       "\n",
       "    .dataframe thead th {\n",
       "        text-align: right;\n",
       "    }\n",
       "</style>\n",
       "<table border=\"1\" class=\"dataframe\">\n",
       "  <thead>\n",
       "    <tr style=\"text-align: right;\">\n",
       "      <th></th>\n",
       "      <th>reviews_text</th>\n",
       "      <th>reviews_rating</th>\n",
       "      <th>Sentiment_rating</th>\n",
       "    </tr>\n",
       "  </thead>\n",
       "  <tbody>\n",
       "    <tr>\n",
       "      <th>0</th>\n",
       "      <td>This keyboard is very easy to type on, but the...</td>\n",
       "      <td>5.0</td>\n",
       "      <td>1</td>\n",
       "    </tr>\n",
       "    <tr>\n",
       "      <th>1</th>\n",
       "      <td>It's thin and light. I can type pretty easily ...</td>\n",
       "      <td>4.0</td>\n",
       "      <td>1</td>\n",
       "    </tr>\n",
       "    <tr>\n",
       "      <th>2</th>\n",
       "      <td>I love the new design the keys are spaced well...</td>\n",
       "      <td>4.0</td>\n",
       "      <td>1</td>\n",
       "    </tr>\n",
       "    <tr>\n",
       "      <th>3</th>\n",
       "      <td>Attached easily and firmly. Has a nice feel. A...</td>\n",
       "      <td>5.0</td>\n",
       "      <td>1</td>\n",
       "    </tr>\n",
       "    <tr>\n",
       "      <th>4</th>\n",
       "      <td>Our original keyboard was okay, but did not ha...</td>\n",
       "      <td>5.0</td>\n",
       "      <td>1</td>\n",
       "    </tr>\n",
       "  </tbody>\n",
       "</table>\n",
       "</div>"
      ],
      "text/plain": [
       "                                        reviews_text  reviews_rating  \\\n",
       "0  This keyboard is very easy to type on, but the...             5.0   \n",
       "1  It's thin and light. I can type pretty easily ...             4.0   \n",
       "2  I love the new design the keys are spaced well...             4.0   \n",
       "3  Attached easily and firmly. Has a nice feel. A...             5.0   \n",
       "4  Our original keyboard was okay, but did not ha...             5.0   \n",
       "\n",
       "   Sentiment_rating  \n",
       "0                 1  \n",
       "1                 1  \n",
       "2                 1  \n",
       "3                 1  \n",
       "4                 1  "
      ]
     },
     "execution_count": 98,
     "metadata": {},
     "output_type": "execute_result"
    }
   ],
   "source": [
    "amazon_ProRev[['reviews_text','reviews_rating','Sentiment_rating']].head(5)"
   ]
  },
  {
   "cell_type": "markdown",
   "metadata": {},
   "source": [
    "To have additional insights of the reviews we can analyze words together by using n-grams to create features.\n",
    "For this reason, it is often prudent to start by extracting as much value out of 1-grams as possible, before working our way up to more complex structures.\n",
    "ngrams are going to give you more context, but also are going to give more computational expense.\n",
    "\n",
    "Let's look at an example of extracting n-grams over a proposed sentence."
   ]
  },
  {
   "cell_type": "code",
   "execution_count": 99,
   "metadata": {},
   "outputs": [
    {
     "name": "stdout",
     "output_type": "stream",
     "text": [
      "1-grams:\n",
      " [('I',), ('am',), ('loving',), ('my',), ('new',), ('Kindle!',), ('I',), ('have',), ('wanted',), ('one',), ('for',), ('a',), ('while',), ('and',), ('finally',), ('bought.',)] \n",
      "\n",
      "2-grams:\n",
      " [('I', 'am'), ('am', 'loving'), ('loving', 'my'), ('my', 'new'), ('new', 'Kindle!'), ('Kindle!', 'I'), ('I', 'have'), ('have', 'wanted'), ('wanted', 'one'), ('one', 'for'), ('for', 'a'), ('a', 'while'), ('while', 'and'), ('and', 'finally'), ('finally', 'bought.')] \n",
      "\n",
      "3-grams:\n",
      " [('I', 'am', 'loving'), ('am', 'loving', 'my'), ('loving', 'my', 'new'), ('my', 'new', 'Kindle!'), ('new', 'Kindle!', 'I'), ('Kindle!', 'I', 'have'), ('I', 'have', 'wanted'), ('have', 'wanted', 'one'), ('wanted', 'one', 'for'), ('one', 'for', 'a'), ('for', 'a', 'while'), ('a', 'while', 'and'), ('while', 'and', 'finally'), ('and', 'finally', 'bought.')] \n",
      "\n",
      "4-grams:\n",
      " [('I', 'am', 'loving', 'my'), ('am', 'loving', 'my', 'new'), ('loving', 'my', 'new', 'Kindle!'), ('my', 'new', 'Kindle!', 'I'), ('new', 'Kindle!', 'I', 'have'), ('Kindle!', 'I', 'have', 'wanted'), ('I', 'have', 'wanted', 'one'), ('have', 'wanted', 'one', 'for'), ('wanted', 'one', 'for', 'a'), ('one', 'for', 'a', 'while'), ('for', 'a', 'while', 'and'), ('a', 'while', 'and', 'finally'), ('while', 'and', 'finally', 'bought.')] \n",
      "\n",
      "5-grams:\n",
      " [('I', 'am', 'loving', 'my', 'new'), ('am', 'loving', 'my', 'new', 'Kindle!'), ('loving', 'my', 'new', 'Kindle!', 'I'), ('my', 'new', 'Kindle!', 'I', 'have'), ('new', 'Kindle!', 'I', 'have', 'wanted'), ('Kindle!', 'I', 'have', 'wanted', 'one'), ('I', 'have', 'wanted', 'one', 'for'), ('have', 'wanted', 'one', 'for', 'a'), ('wanted', 'one', 'for', 'a', 'while'), ('one', 'for', 'a', 'while', 'and'), ('for', 'a', 'while', 'and', 'finally'), ('a', 'while', 'and', 'finally', 'bought.')] \n",
      "\n"
     ]
    }
   ],
   "source": [
    "# n-gram modeling example:\n",
    "from nltk import ngrams\n",
    "\n",
    "sentence = 'I am loving my new Kindle! I have wanted one for a while and finally bought.'\n",
    "\n",
    "for n in range(1, 6):\n",
    "    print(str(n) + '-grams:\\n', list(ngrams(sentence.split(), n)), '\\n')"
   ]
  },
  {
   "cell_type": "markdown",
   "metadata": {},
   "source": [
    "### 10.1 Bag of Words Model \n",
    "\n",
    "The bag-of-words procedure falls under a broader category of techniques known as **count-based representations**. These are techniques to analyze documents by indicating how frequently certain types of structures occur throughout.\n",
    "\n",
    "Here we create a word-document co-occurrence matrix for our set of reviews using the **CountVectorizer** class that automatically accounts for certain preprocessing steps like removing stopwords, stemming, creating n-grams, and word tokenization."
   ]
  },
  {
   "cell_type": "code",
   "execution_count": 100,
   "metadata": {},
   "outputs": [
    {
     "data": {
      "text/plain": [
       "'a must have accessory for the surface pro computer'"
      ]
     },
     "execution_count": 100,
     "metadata": {},
     "output_type": "execute_result"
    }
   ],
   "source": [
    "amazon_ProRev['lowercase_text_reviews'][10]"
   ]
  },
  {
   "cell_type": "markdown",
   "metadata": {},
   "source": [
    "To create word-document matrix and convert the reviews to a matrix of token counts **vec.fit_transform()** function was used."
   ]
  },
  {
   "cell_type": "code",
   "execution_count": 148,
   "metadata": {},
   "outputs": [
    {
     "data": {
      "text/html": [
       "<div>\n",
       "<style scoped>\n",
       "    .dataframe tbody tr th:only-of-type {\n",
       "        vertical-align: middle;\n",
       "    }\n",
       "\n",
       "    .dataframe tbody tr th {\n",
       "        vertical-align: top;\n",
       "    }\n",
       "\n",
       "    .dataframe thead th {\n",
       "        text-align: right;\n",
       "    }\n",
       "</style>\n",
       "<table border=\"1\" class=\"dataframe\">\n",
       "  <thead>\n",
       "    <tr style=\"text-align: right;\">\n",
       "      <th></th>\n",
       "      <th>00</th>\n",
       "      <th>000</th>\n",
       "      <th>0001</th>\n",
       "      <th>000224</th>\n",
       "      <th>007</th>\n",
       "      <th>04</th>\n",
       "      <th>10</th>\n",
       "      <th>100</th>\n",
       "      <th>1000</th>\n",
       "      <th>1004</th>\n",
       "      <th>...</th>\n",
       "      <th>zip</th>\n",
       "      <th>zipper</th>\n",
       "      <th>zone</th>\n",
       "      <th>zones</th>\n",
       "      <th>zoom</th>\n",
       "      <th>zr7</th>\n",
       "      <th>zx</th>\n",
       "      <th>zx2</th>\n",
       "      <th>zx7</th>\n",
       "      <th>zx99i</th>\n",
       "    </tr>\n",
       "  </thead>\n",
       "  <tbody>\n",
       "    <tr>\n",
       "      <th>0</th>\n",
       "      <td>0</td>\n",
       "      <td>0</td>\n",
       "      <td>0</td>\n",
       "      <td>0</td>\n",
       "      <td>0</td>\n",
       "      <td>0</td>\n",
       "      <td>0</td>\n",
       "      <td>0</td>\n",
       "      <td>0</td>\n",
       "      <td>0</td>\n",
       "      <td>...</td>\n",
       "      <td>0</td>\n",
       "      <td>0</td>\n",
       "      <td>0</td>\n",
       "      <td>0</td>\n",
       "      <td>0</td>\n",
       "      <td>0</td>\n",
       "      <td>0</td>\n",
       "      <td>0</td>\n",
       "      <td>0</td>\n",
       "      <td>0</td>\n",
       "    </tr>\n",
       "    <tr>\n",
       "      <th>1</th>\n",
       "      <td>0</td>\n",
       "      <td>0</td>\n",
       "      <td>0</td>\n",
       "      <td>0</td>\n",
       "      <td>0</td>\n",
       "      <td>0</td>\n",
       "      <td>0</td>\n",
       "      <td>0</td>\n",
       "      <td>0</td>\n",
       "      <td>0</td>\n",
       "      <td>...</td>\n",
       "      <td>0</td>\n",
       "      <td>0</td>\n",
       "      <td>0</td>\n",
       "      <td>0</td>\n",
       "      <td>0</td>\n",
       "      <td>0</td>\n",
       "      <td>0</td>\n",
       "      <td>0</td>\n",
       "      <td>0</td>\n",
       "      <td>0</td>\n",
       "    </tr>\n",
       "    <tr>\n",
       "      <th>2</th>\n",
       "      <td>0</td>\n",
       "      <td>0</td>\n",
       "      <td>0</td>\n",
       "      <td>0</td>\n",
       "      <td>0</td>\n",
       "      <td>0</td>\n",
       "      <td>0</td>\n",
       "      <td>0</td>\n",
       "      <td>0</td>\n",
       "      <td>0</td>\n",
       "      <td>...</td>\n",
       "      <td>0</td>\n",
       "      <td>0</td>\n",
       "      <td>0</td>\n",
       "      <td>0</td>\n",
       "      <td>0</td>\n",
       "      <td>0</td>\n",
       "      <td>0</td>\n",
       "      <td>0</td>\n",
       "      <td>0</td>\n",
       "      <td>0</td>\n",
       "    </tr>\n",
       "    <tr>\n",
       "      <th>3</th>\n",
       "      <td>0</td>\n",
       "      <td>0</td>\n",
       "      <td>0</td>\n",
       "      <td>0</td>\n",
       "      <td>0</td>\n",
       "      <td>0</td>\n",
       "      <td>0</td>\n",
       "      <td>0</td>\n",
       "      <td>0</td>\n",
       "      <td>0</td>\n",
       "      <td>...</td>\n",
       "      <td>0</td>\n",
       "      <td>0</td>\n",
       "      <td>0</td>\n",
       "      <td>0</td>\n",
       "      <td>0</td>\n",
       "      <td>0</td>\n",
       "      <td>0</td>\n",
       "      <td>0</td>\n",
       "      <td>0</td>\n",
       "      <td>0</td>\n",
       "    </tr>\n",
       "    <tr>\n",
       "      <th>4</th>\n",
       "      <td>0</td>\n",
       "      <td>0</td>\n",
       "      <td>0</td>\n",
       "      <td>0</td>\n",
       "      <td>0</td>\n",
       "      <td>0</td>\n",
       "      <td>0</td>\n",
       "      <td>0</td>\n",
       "      <td>0</td>\n",
       "      <td>0</td>\n",
       "      <td>...</td>\n",
       "      <td>0</td>\n",
       "      <td>0</td>\n",
       "      <td>0</td>\n",
       "      <td>0</td>\n",
       "      <td>0</td>\n",
       "      <td>0</td>\n",
       "      <td>0</td>\n",
       "      <td>0</td>\n",
       "      <td>0</td>\n",
       "      <td>0</td>\n",
       "    </tr>\n",
       "    <tr>\n",
       "      <th>...</th>\n",
       "      <td>...</td>\n",
       "      <td>...</td>\n",
       "      <td>...</td>\n",
       "      <td>...</td>\n",
       "      <td>...</td>\n",
       "      <td>...</td>\n",
       "      <td>...</td>\n",
       "      <td>...</td>\n",
       "      <td>...</td>\n",
       "      <td>...</td>\n",
       "      <td>...</td>\n",
       "      <td>...</td>\n",
       "      <td>...</td>\n",
       "      <td>...</td>\n",
       "      <td>...</td>\n",
       "      <td>...</td>\n",
       "      <td>...</td>\n",
       "      <td>...</td>\n",
       "      <td>...</td>\n",
       "      <td>...</td>\n",
       "      <td>...</td>\n",
       "    </tr>\n",
       "    <tr>\n",
       "      <th>3799</th>\n",
       "      <td>0</td>\n",
       "      <td>0</td>\n",
       "      <td>0</td>\n",
       "      <td>0</td>\n",
       "      <td>0</td>\n",
       "      <td>0</td>\n",
       "      <td>0</td>\n",
       "      <td>0</td>\n",
       "      <td>0</td>\n",
       "      <td>0</td>\n",
       "      <td>...</td>\n",
       "      <td>0</td>\n",
       "      <td>0</td>\n",
       "      <td>0</td>\n",
       "      <td>0</td>\n",
       "      <td>0</td>\n",
       "      <td>0</td>\n",
       "      <td>0</td>\n",
       "      <td>0</td>\n",
       "      <td>0</td>\n",
       "      <td>0</td>\n",
       "    </tr>\n",
       "    <tr>\n",
       "      <th>3800</th>\n",
       "      <td>0</td>\n",
       "      <td>0</td>\n",
       "      <td>0</td>\n",
       "      <td>0</td>\n",
       "      <td>0</td>\n",
       "      <td>0</td>\n",
       "      <td>0</td>\n",
       "      <td>0</td>\n",
       "      <td>0</td>\n",
       "      <td>0</td>\n",
       "      <td>...</td>\n",
       "      <td>0</td>\n",
       "      <td>0</td>\n",
       "      <td>0</td>\n",
       "      <td>0</td>\n",
       "      <td>0</td>\n",
       "      <td>0</td>\n",
       "      <td>0</td>\n",
       "      <td>0</td>\n",
       "      <td>0</td>\n",
       "      <td>0</td>\n",
       "    </tr>\n",
       "    <tr>\n",
       "      <th>3801</th>\n",
       "      <td>0</td>\n",
       "      <td>0</td>\n",
       "      <td>0</td>\n",
       "      <td>0</td>\n",
       "      <td>0</td>\n",
       "      <td>0</td>\n",
       "      <td>0</td>\n",
       "      <td>0</td>\n",
       "      <td>0</td>\n",
       "      <td>0</td>\n",
       "      <td>...</td>\n",
       "      <td>0</td>\n",
       "      <td>0</td>\n",
       "      <td>0</td>\n",
       "      <td>0</td>\n",
       "      <td>0</td>\n",
       "      <td>0</td>\n",
       "      <td>0</td>\n",
       "      <td>0</td>\n",
       "      <td>0</td>\n",
       "      <td>0</td>\n",
       "    </tr>\n",
       "    <tr>\n",
       "      <th>3802</th>\n",
       "      <td>0</td>\n",
       "      <td>0</td>\n",
       "      <td>0</td>\n",
       "      <td>0</td>\n",
       "      <td>0</td>\n",
       "      <td>0</td>\n",
       "      <td>0</td>\n",
       "      <td>0</td>\n",
       "      <td>0</td>\n",
       "      <td>0</td>\n",
       "      <td>...</td>\n",
       "      <td>0</td>\n",
       "      <td>0</td>\n",
       "      <td>0</td>\n",
       "      <td>0</td>\n",
       "      <td>0</td>\n",
       "      <td>0</td>\n",
       "      <td>0</td>\n",
       "      <td>0</td>\n",
       "      <td>0</td>\n",
       "      <td>0</td>\n",
       "    </tr>\n",
       "    <tr>\n",
       "      <th>3803</th>\n",
       "      <td>0</td>\n",
       "      <td>0</td>\n",
       "      <td>0</td>\n",
       "      <td>0</td>\n",
       "      <td>0</td>\n",
       "      <td>0</td>\n",
       "      <td>1</td>\n",
       "      <td>0</td>\n",
       "      <td>0</td>\n",
       "      <td>0</td>\n",
       "      <td>...</td>\n",
       "      <td>0</td>\n",
       "      <td>0</td>\n",
       "      <td>0</td>\n",
       "      <td>0</td>\n",
       "      <td>0</td>\n",
       "      <td>0</td>\n",
       "      <td>0</td>\n",
       "      <td>0</td>\n",
       "      <td>0</td>\n",
       "      <td>0</td>\n",
       "    </tr>\n",
       "  </tbody>\n",
       "</table>\n",
       "<p>3804 rows × 7226 columns</p>\n",
       "</div>"
      ],
      "text/plain": [
       "      00  000  0001  000224  007  04  10  100  1000  1004  ...  zip  zipper  \\\n",
       "0      0    0     0       0    0   0   0    0     0     0  ...    0       0   \n",
       "1      0    0     0       0    0   0   0    0     0     0  ...    0       0   \n",
       "2      0    0     0       0    0   0   0    0     0     0  ...    0       0   \n",
       "3      0    0     0       0    0   0   0    0     0     0  ...    0       0   \n",
       "4      0    0     0       0    0   0   0    0     0     0  ...    0       0   \n",
       "...   ..  ...   ...     ...  ...  ..  ..  ...   ...   ...  ...  ...     ...   \n",
       "3799   0    0     0       0    0   0   0    0     0     0  ...    0       0   \n",
       "3800   0    0     0       0    0   0   0    0     0     0  ...    0       0   \n",
       "3801   0    0     0       0    0   0   0    0     0     0  ...    0       0   \n",
       "3802   0    0     0       0    0   0   0    0     0     0  ...    0       0   \n",
       "3803   0    0     0       0    0   0   1    0     0     0  ...    0       0   \n",
       "\n",
       "      zone  zones  zoom  zr7  zx  zx2  zx7  zx99i  \n",
       "0        0      0     0    0   0    0    0      0  \n",
       "1        0      0     0    0   0    0    0      0  \n",
       "2        0      0     0    0   0    0    0      0  \n",
       "3        0      0     0    0   0    0    0      0  \n",
       "4        0      0     0    0   0    0    0      0  \n",
       "...    ...    ...   ...  ...  ..  ...  ...    ...  \n",
       "3799     0      0     0    0   0    0    0      0  \n",
       "3800     0      0     0    0   0    0    0      0  \n",
       "3801     0      0     0    0   0    0    0      0  \n",
       "3802     0      0     0    0   0    0    0      0  \n",
       "3803     0      0     0    0   0    0    0      0  \n",
       "\n",
       "[3804 rows x 7226 columns]"
      ]
     },
     "execution_count": 148,
     "metadata": {},
     "output_type": "execute_result"
    }
   ],
   "source": [
    "# creating word-document matrix\n",
    "from sklearn.feature_extraction.text import CountVectorizer\n",
    "\n",
    "# converting reviews to a matrix of token counts\n",
    "vec = CountVectorizer()\n",
    "X = vec.fit_transform(amazon_ProRev['lowercase_text_reviews'])\n",
    "df = pd.DataFrame(X.toarray(), columns = vec.get_feature_names())\n",
    "df"
   ]
  },
  {
   "cell_type": "markdown",
   "metadata": {},
   "source": [
    "This is the matrix of words including all reviews as rows and each unique word as column. So, each word in the review is going to be counted on each of the reviews. \n",
    "\n",
    "Now we use this to create a bag of words from the reviews, excluding the noise words we identified earlier."
   ]
  },
  {
   "cell_type": "code",
   "execution_count": 102,
   "metadata": {},
   "outputs": [
    {
     "data": {
      "text/plain": [
       "<3804x7260 sparse matrix of type '<class 'numpy.int64'>'\n",
       "\twith 126356 stored elements in Compressed Sparse Row format>"
      ]
     },
     "execution_count": 102,
     "metadata": {},
     "output_type": "execute_result"
    }
   ],
   "source": [
    "# Creating a python object of the class CountVectorizer\n",
    "bagofwords_counts = CountVectorizer(tokenizer= word_tokenize, # type of tokenization\n",
    "                                    stop_words=noise_words, # List of stopwords\n",
    "                                    ngram_range=(1,1)) # number of n-grams\n",
    "\n",
    "# Fitting and transforming the reviews \n",
    "bagofwords_data = bagofwords_counts.fit_transform(amazon_ProRev['lowercase_text_reviews'])\n",
    "bagofwords_data"
   ]
  },
  {
   "cell_type": "markdown",
   "metadata": {},
   "source": [
    "We can see that a sparse matrix of 3804  observations (number of rows of the reviews_text_new series) has been built, and 7260  columns (words) corresponding to the features extracted by means of the representation of the 1-gram count of the user reviews, which is very difficult to process and computationally expensive.\n",
    "\n",
    "Since this matrix includes numerical data (counts of the words) we can have featurized approach where each of the columns is one feature and rows are the observations."
   ]
  },
  {
   "cell_type": "markdown",
   "metadata": {},
   "source": [
    "### 10.2 Applying Logistic Regression to Bag of Words Features"
   ]
  },
  {
   "cell_type": "markdown",
   "metadata": {},
   "source": [
    "Once the bag of words is prepared, to model the dataset, we divide the data into training and testing sets (20%). Here the target variable is the \"Sentiment_rating\" that has been already defined."
   ]
  },
  {
   "cell_type": "code",
   "execution_count": 103,
   "metadata": {},
   "outputs": [],
   "source": [
    "X_train_bagofwords, X_test_bagofwords, y_train_bagofwords, y_test_bagofwords = train_test_split(bagofwords_data, # Features\n",
    "                                                                    amazon_ProRev['Sentiment_rating'], # Target variable\n",
    "                                                                    test_size = 0.2, # 20% test size\n",
    "                                                                    random_state = 0) # random state for replication purposes"
   ]
  },
  {
   "cell_type": "code",
   "execution_count": 104,
   "metadata": {},
   "outputs": [
    {
     "data": {
      "text/plain": [
       "1    0.952694\n",
       "0    0.047306\n",
       "Name: Sentiment_rating, dtype: float64"
      ]
     },
     "execution_count": 104,
     "metadata": {},
     "output_type": "execute_result"
    }
   ],
   "source": [
    "y_test_bagofwords.value_counts()/y_test_bagofwords.shape[0]"
   ]
  },
  {
   "cell_type": "markdown",
   "metadata": {},
   "source": [
    "The test data contains 95.2% positive sentiment reviews. So, if we were to classify all reviews as positive, then our model would achieve an accuracy of 95.2%. Therefore, this is the baseline that any model we create must beat. We have an imbalance in the classes. However, we will skip the handling class imbalance processes to focus on NLP modeling. As an intermediate step, techniques such as SMOTE, sub-sampling or oversampling can be applied."
   ]
  },
  {
   "cell_type": "markdown",
   "metadata": {},
   "source": [
    "Let's train the model on our training data and run the resulting model on our test data."
   ]
  },
  {
   "cell_type": "code",
   "execution_count": 105,
   "metadata": {
    "scrolled": true
   },
   "outputs": [
    {
     "name": "stdout",
     "output_type": "stream",
     "text": [
      "f1 score:  0.9738651994497936\n"
     ]
    }
   ],
   "source": [
    "# Training the model \n",
    "lr_model_all = LogisticRegression() # Logistic regression\n",
    "lr_model_all.fit(X_train_bagofwords, y_train_bagofwords) # Fitting a logistic regression model\n",
    "\n",
    "# Predicting the output\n",
    "test_pred_lr_all = lr_model_all.predict(X_test_bagofwords) # Class prediction\n",
    "\n",
    "# Calculate key performance metrics\n",
    "print(\"f1 score: \", f1_score(y_test_bagofwords, test_pred_lr_all))"
   ]
  },
  {
   "cell_type": "markdown",
   "metadata": {},
   "source": [
    "As we can see the f1 score is 97.3% which is considerably high.\n",
    "\n",
    "Instead of counting words we can count by bigrams, trigrams, and 4-grams, modifying the set of features in the model to include them and applying the same approach."
   ]
  },
  {
   "cell_type": "code",
   "execution_count": 106,
   "metadata": {},
   "outputs": [],
   "source": [
    "# Changes with respect to the previous code\n",
    "# 1. Increasing the n-grams from just having 1-gram to (2-gram, 3-gram, and 4-gram) \n",
    "# 2. Including the stopwords in the bag of words features\n",
    "\n",
    "# using 3-gram\n",
    "bagofwords_counts = CountVectorizer(tokenizer= word_tokenize,\n",
    "                             ngram_range=(1,3))\n",
    "\n",
    "bagofwords_data = bagofwords_counts.fit_transform(amazon_ProRev.lowercase_text_reviews)"
   ]
  },
  {
   "cell_type": "code",
   "execution_count": 107,
   "metadata": {},
   "outputs": [
    {
     "data": {
      "text/plain": [
       "<3804x192317 sparse matrix of type '<class 'numpy.int64'>'\n",
       "\twith 456433 stored elements in Compressed Sparse Row format>"
      ]
     },
     "execution_count": 107,
     "metadata": {},
     "output_type": "execute_result"
    }
   ],
   "source": [
    "# Notice the increase in features with inclusion of n-grams\n",
    "bagofwords_data"
   ]
  },
  {
   "cell_type": "markdown",
   "metadata": {},
   "source": [
    "As we can see by increasing the number of grams, the number of features and the number of computational expenses increases.\n",
    "\n",
    "Now, we split the dataset to the training and testing sets again and apply Logistic Regression method to predict the f1 score."
   ]
  },
  {
   "cell_type": "code",
   "execution_count": 108,
   "metadata": {},
   "outputs": [],
   "source": [
    "X_train_bagofwords, X_test_bagofwords, y_train_bagofwords, y_test_bagofwords = train_test_split(bagofwords_data,\n",
    "                                         amazon_ProRev['Sentiment_rating'],test_size = 0.2, random_state = 0)"
   ]
  },
  {
   "cell_type": "code",
   "execution_count": 109,
   "metadata": {},
   "outputs": [
    {
     "name": "stdout",
     "output_type": "stream",
     "text": [
      "f1 score:  0.9789545145960625\n"
     ]
    }
   ],
   "source": [
    "import sklearn.linear_model as lm\n",
    "\n",
    "# Defining and training the model\n",
    "lr_model_all_new = lm.LogisticRegression(max_iter = 200)\n",
    "lr_model_all_new.fit(X_train_bagofwords, y_train_bagofwords)\n",
    "\n",
    "# Predicting the results\n",
    "test_pred_lr_all = lr_model_all_new.predict(X_test_bagofwords)\n",
    "\n",
    "print(\"f1 score: \", f1_score(y_test_bagofwords,test_pred_lr_all))"
   ]
  },
  {
   "cell_type": "markdown",
   "metadata": {},
   "source": [
    "The f1 score increased from 97.3% to 97.8%. So, we have to balance our computational expenses from coming of 7260 features to 192317 against 0.5% increase in our f1 score. \n",
    "\n",
    "This is an example of what simple hyperparameter tuning and input feature modification can do to the overall performance. We can even get interpretable features from this in terms of what contributed the most to positive and negative sentiment."
   ]
  },
  {
   "cell_type": "markdown",
   "metadata": {},
   "source": [
    "We want to extract which are the most important words for the classifier in order to classify the reviews into positive and negatives."
   ]
  },
  {
   "cell_type": "code",
   "execution_count": 110,
   "metadata": {},
   "outputs": [
    {
     "data": {
      "text/html": [
       "<div>\n",
       "<style scoped>\n",
       "    .dataframe tbody tr th:only-of-type {\n",
       "        vertical-align: middle;\n",
       "    }\n",
       "\n",
       "    .dataframe tbody tr th {\n",
       "        vertical-align: top;\n",
       "    }\n",
       "\n",
       "    .dataframe thead th {\n",
       "        text-align: right;\n",
       "    }\n",
       "</style>\n",
       "<table border=\"1\" class=\"dataframe\">\n",
       "  <thead>\n",
       "    <tr style=\"text-align: right;\">\n",
       "      <th></th>\n",
       "      <th>words</th>\n",
       "      <th>weights</th>\n",
       "    </tr>\n",
       "  </thead>\n",
       "  <tbody>\n",
       "    <tr>\n",
       "      <th>64030</th>\n",
       "      <td>great</td>\n",
       "      <td>1.106591</td>\n",
       "    </tr>\n",
       "    <tr>\n",
       "      <th>62952</th>\n",
       "      <td>good</td>\n",
       "      <td>0.733658</td>\n",
       "    </tr>\n",
       "    <tr>\n",
       "      <th>93262</th>\n",
       "      <td>love</td>\n",
       "      <td>0.677864</td>\n",
       "    </tr>\n",
       "    <tr>\n",
       "      <th>49016</th>\n",
       "      <td>easy</td>\n",
       "      <td>0.613629</td>\n",
       "    </tr>\n",
       "    <tr>\n",
       "      <th>100433</th>\n",
       "      <td>my</td>\n",
       "      <td>0.563106</td>\n",
       "    </tr>\n",
       "    <tr>\n",
       "      <th>182071</th>\n",
       "      <td>well</td>\n",
       "      <td>0.550843</td>\n",
       "    </tr>\n",
       "    <tr>\n",
       "      <th>188559</th>\n",
       "      <td>works</td>\n",
       "      <td>0.513109</td>\n",
       "    </tr>\n",
       "    <tr>\n",
       "      <th>104116</th>\n",
       "      <td>nice</td>\n",
       "      <td>0.464577</td>\n",
       "    </tr>\n",
       "    <tr>\n",
       "      <th>49217</th>\n",
       "      <td>easy to</td>\n",
       "      <td>0.420845</td>\n",
       "    </tr>\n",
       "    <tr>\n",
       "      <th>114514</th>\n",
       "      <td>other</td>\n",
       "      <td>0.372117</td>\n",
       "    </tr>\n",
       "    <tr>\n",
       "      <th>175335</th>\n",
       "      <td>use</td>\n",
       "      <td>0.364837</td>\n",
       "    </tr>\n",
       "    <tr>\n",
       "      <th>71365</th>\n",
       "      <td>home</td>\n",
       "      <td>0.358773</td>\n",
       "    </tr>\n",
       "    <tr>\n",
       "      <th>91239</th>\n",
       "      <td>little</td>\n",
       "      <td>0.340233</td>\n",
       "    </tr>\n",
       "    <tr>\n",
       "      <th>4762</th>\n",
       "      <td>a little</td>\n",
       "      <td>0.336809</td>\n",
       "    </tr>\n",
       "    <tr>\n",
       "      <th>52158</th>\n",
       "      <td>excellent</td>\n",
       "      <td>0.335874</td>\n",
       "    </tr>\n",
       "  </tbody>\n",
       "</table>\n",
       "</div>"
      ],
      "text/plain": [
       "            words   weights\n",
       "64030       great  1.106591\n",
       "62952        good  0.733658\n",
       "93262        love  0.677864\n",
       "49016        easy  0.613629\n",
       "100433         my  0.563106\n",
       "182071       well  0.550843\n",
       "188559      works  0.513109\n",
       "104116       nice  0.464577\n",
       "49217     easy to  0.420845\n",
       "114514      other  0.372117\n",
       "175335        use  0.364837\n",
       "71365        home  0.358773\n",
       "91239      little  0.340233\n",
       "4762     a little  0.336809\n",
       "52158   excellent  0.335874"
      ]
     },
     "execution_count": 110,
     "metadata": {},
     "output_type": "execute_result"
    }
   ],
   "source": [
    "lr_weights = pd.DataFrame(list(zip(bagofwords_counts.get_feature_names(), # get all the n-gram feature names\n",
    "                                   lr_model_all_new.coef_[0])), # get the logistic regression coefficients\n",
    "                                   columns= ['words','weights']) # defining the colunm names\n",
    "\n",
    "lr_weights.sort_values(['weights'], ascending = False)[:15] # top-15 more important features for positive reviews"
   ]
  },
  {
   "cell_type": "markdown",
   "metadata": {},
   "source": [
    "Here are the 15 top words for the classifier to classify into positive reviews. So, words such as \"great\", \"good\", \"love\", ... are driving the classifier to classify the entire review into a positive review, as well as the negative reviews that have words such as \"terrible\", ... and driving the classifier to classify the review to the negative."
   ]
  },
  {
   "cell_type": "code",
   "execution_count": 111,
   "metadata": {},
   "outputs": [
    {
     "data": {
      "text/html": [
       "<div>\n",
       "<style scoped>\n",
       "    .dataframe tbody tr th:only-of-type {\n",
       "        vertical-align: middle;\n",
       "    }\n",
       "\n",
       "    .dataframe tbody tr th {\n",
       "        vertical-align: top;\n",
       "    }\n",
       "\n",
       "    .dataframe thead th {\n",
       "        text-align: right;\n",
       "    }\n",
       "</style>\n",
       "<table border=\"1\" class=\"dataframe\">\n",
       "  <thead>\n",
       "    <tr style=\"text-align: right;\">\n",
       "      <th></th>\n",
       "      <th>words</th>\n",
       "      <th>weights</th>\n",
       "    </tr>\n",
       "  </thead>\n",
       "  <tbody>\n",
       "    <tr>\n",
       "      <th>22816</th>\n",
       "      <td>back</td>\n",
       "      <td>-0.434296</td>\n",
       "    </tr>\n",
       "    <tr>\n",
       "      <th>104645</th>\n",
       "      <td>no</td>\n",
       "      <td>-0.440657</td>\n",
       "    </tr>\n",
       "    <tr>\n",
       "      <th>61358</th>\n",
       "      <td>gave</td>\n",
       "      <td>-0.447182</td>\n",
       "    </tr>\n",
       "    <tr>\n",
       "      <th>45059</th>\n",
       "      <td>didn</td>\n",
       "      <td>-0.457970</td>\n",
       "    </tr>\n",
       "    <tr>\n",
       "      <th>45060</th>\n",
       "      <td>didn t</td>\n",
       "      <td>-0.457970</td>\n",
       "    </tr>\n",
       "    <tr>\n",
       "      <th>103224</th>\n",
       "      <td>needs</td>\n",
       "      <td>-0.462166</td>\n",
       "    </tr>\n",
       "    <tr>\n",
       "      <th>84852</th>\n",
       "      <td>it was</td>\n",
       "      <td>-0.465813</td>\n",
       "    </tr>\n",
       "    <tr>\n",
       "      <th>82699</th>\n",
       "      <td>it back</td>\n",
       "      <td>-0.468022</td>\n",
       "    </tr>\n",
       "    <tr>\n",
       "      <th>151581</th>\n",
       "      <td>terrible</td>\n",
       "      <td>-0.468780</td>\n",
       "    </tr>\n",
       "    <tr>\n",
       "      <th>169639</th>\n",
       "      <td>to work</td>\n",
       "      <td>-0.490383</td>\n",
       "    </tr>\n",
       "    <tr>\n",
       "      <th>61591</th>\n",
       "      <td>get</td>\n",
       "      <td>-0.642178</td>\n",
       "    </tr>\n",
       "    <tr>\n",
       "      <th>131321</th>\n",
       "      <td>returned</td>\n",
       "      <td>-0.693849</td>\n",
       "    </tr>\n",
       "    <tr>\n",
       "      <th>187963</th>\n",
       "      <td>work</td>\n",
       "      <td>-0.800667</td>\n",
       "    </tr>\n",
       "    <tr>\n",
       "      <th>149595</th>\n",
       "      <td>t</td>\n",
       "      <td>-0.958695</td>\n",
       "    </tr>\n",
       "    <tr>\n",
       "      <th>105498</th>\n",
       "      <td>not</td>\n",
       "      <td>-1.368077</td>\n",
       "    </tr>\n",
       "  </tbody>\n",
       "</table>\n",
       "</div>"
      ],
      "text/plain": [
       "           words   weights\n",
       "22816       back -0.434296\n",
       "104645        no -0.440657\n",
       "61358       gave -0.447182\n",
       "45059       didn -0.457970\n",
       "45060     didn t -0.457970\n",
       "103224     needs -0.462166\n",
       "84852     it was -0.465813\n",
       "82699    it back -0.468022\n",
       "151581  terrible -0.468780\n",
       "169639   to work -0.490383\n",
       "61591        get -0.642178\n",
       "131321  returned -0.693849\n",
       "187963      work -0.800667\n",
       "149595         t -0.958695\n",
       "105498       not -1.368077"
      ]
     },
     "execution_count": 111,
     "metadata": {},
     "output_type": "execute_result"
    }
   ],
   "source": [
    "lr_weights.sort_values(['weights'], ascending = False)[-15:] # top-15 more important features for negative reviews"
   ]
  },
  {
   "cell_type": "markdown",
   "metadata": {},
   "source": [
    "### 10.3 Applying Linear Support Vector Machine (LSVM) to Bag of Words Features"
   ]
  },
  {
   "cell_type": "markdown",
   "metadata": {},
   "source": [
    "Now, we train the model on our training data and run the resulting model on our test data using SVM method."
   ]
  },
  {
   "cell_type": "code",
   "execution_count": 112,
   "metadata": {
    "scrolled": true
   },
   "outputs": [
    {
     "data": {
      "text/plain": [
       "LinearSVC()"
      ]
     },
     "execution_count": 112,
     "metadata": {},
     "output_type": "execute_result"
    }
   ],
   "source": [
    "# Defining and training the model\n",
    "clf_model_all_new = LinearSVC()\n",
    "clf_model_all_new.fit(X_train_bagofwords, y_train_bagofwords)"
   ]
  },
  {
   "cell_type": "code",
   "execution_count": 113,
   "metadata": {},
   "outputs": [
    {
     "name": "stdout",
     "output_type": "stream",
     "text": [
      "f1 score:  0.980952380952381\n"
     ]
    }
   ],
   "source": [
    "test_pred_clf_all = clf_model_all_new.predict(X_test_bagofwords)\n",
    "\n",
    "print(\"f1 score: \", f1_score(y_test_bagofwords,test_pred_clf_all))"
   ]
  },
  {
   "cell_type": "markdown",
   "metadata": {},
   "source": [
    "Looking at result, shows that the f1 score is 98.09% which is considerably high."
   ]
  },
  {
   "cell_type": "markdown",
   "metadata": {},
   "source": [
    "Comparing the f1 scores of LR and SVM models shows that the accuracy of the LSVM with the value of 98.09% is higher than LR with the value of 97.39% . "
   ]
  },
  {
   "cell_type": "code",
   "execution_count": 114,
   "metadata": {},
   "outputs": [
    {
     "data": {
      "image/png": "[encoded data removed]",
      "text/plain": [
       "<Figure size 1008x432 with 1 Axes>"
      ]
     },
     "metadata": {},
     "output_type": "display_data"
    },
    {
     "data": {
      "text/plain": [
       "<Figure size 288x576 with 0 Axes>"
      ]
     },
     "metadata": {},
     "output_type": "display_data"
    }
   ],
   "source": [
    "import matplotlib.pyplot as plt  \n",
    "from sklearn import datasets, metrics, model_selection, svm\n",
    "\n",
    "\n",
    "clf_model_all_new.fit(X_train_bagofwords, y_train_bagofwords)\n",
    "\n",
    "clf_disp = metrics.plot_roc_curve(clf_model_all_new, X_test_bagofwords, y_test_bagofwords)  \n",
    "log_disp = metrics.plot_roc_curve(lr_model_all_new, X_test_bagofwords, y_test_bagofwords, ax = clf_disp.ax_)  \n",
    "\n",
    "clf_disp.figure_.suptitle(\"Bag of Words ROC curve comparison\")\n",
    "plt.figure(figsize=(4,8))\n",
    "plt.show()"
   ]
  },
  {
   "cell_type": "markdown",
   "metadata": {},
   "source": [
    "ROC Curve comparison shows that the area under curve for LR Classifier is less than SVC (0.92 vs 0.91). Looking at the f1-scores of these models, we can see that the LSVM model has a higher score than LR (98.09% vs 97.39%). So, by using f1-scores SVC has higher accuracy than LR."
   ]
  },
  {
   "cell_type": "markdown",
   "metadata": {},
   "source": [
    "### 11. TF-IDF Model \n",
    "\n",
    "Bag-of-words are not the only way to featurize text. Another method is the **Term Frequency-Inverse Document Frequency (TF-IDF)** method. This method evaluates how important a word is to a document within a large collection of documents (i.e. corpus). The importance increases proportionally based on the number of times a word appears in the document but is offset by the frequency of the word in the corpus.\n",
    "\n",
    "The TF-IDF weight is the product of two terms. The first computes the normalized Term Frequency (TF); i.e. the number of times a word appears in a document divided by the total number of words in that document. The second term is the Inverse Document Frequency (IDF), computed as the logarithm of the number of the documents in the corpus divided by the number of documents where the specific term appears.\n",
    "\n",
    "**The TF-IDF metric solves this problem:**\n",
    "- TF computes the classic number of times the word appears in the text.<br>\n",
    "- IDF computes the relative importance of this word which depends on how many texts the word can be found.<br>"
   ]
  },
  {
   "attachments": {
    "image.png": {
     "image/png": "[encoded data removed]"
    }
   },
   "cell_type": "markdown",
   "metadata": {},
   "source": [
    "![image.png](attachment:image.png)\n",
    "\n",
    "Now, we re-featurize our original set of reviews based on TF-IDF and split the resulting features into train and test sets."
   ]
  },
  {
   "cell_type": "code",
   "execution_count": 115,
   "metadata": {},
   "outputs": [
    {
     "data": {
      "text/plain": [
       "<3804x7260 sparse matrix of type '<class 'numpy.float64'>'\n",
       "\twith 126356 stored elements in Compressed Sparse Row format>"
      ]
     },
     "execution_count": 115,
     "metadata": {},
     "output_type": "execute_result"
    }
   ],
   "source": [
    "# implementing tf-idf model\n",
    "from sklearn.feature_extraction.text import TfidfVectorizer\n",
    "\n",
    "# Creating a python object of the class CountVectorizer\n",
    "tfidf_counts = TfidfVectorizer(tokenizer= word_tokenize, # type of tokenization\n",
    "                               stop_words=noise_words, # List of stopwords\n",
    "                               ngram_range=(1,1)) # number of n-grams\n",
    "\n",
    "tfidf_data = tfidf_counts.fit_transform(amazon_ProRev['lowercase_text_reviews'])\n",
    "tfidf_data"
   ]
  },
  {
   "cell_type": "markdown",
   "metadata": {},
   "source": [
    "Here we have the same number of features/columns as bag of words model since we were applying the same approach of counting times a logarithm value. "
   ]
  },
  {
   "cell_type": "markdown",
   "metadata": {},
   "source": [
    "### 11.1 Applying Logistic Regression to TF-IDF Features"
   ]
  },
  {
   "cell_type": "code",
   "execution_count": 116,
   "metadata": {},
   "outputs": [],
   "source": [
    "X_train_tfidf, X_test_tfidf, y_train_tfidf, y_test_tfidf = train_test_split(tfidf_data,amazon_ProRev['Sentiment_rating'],\n",
    "                                                                            test_size = 0.3, random_state = 0)"
   ]
  },
  {
   "cell_type": "markdown",
   "metadata": {},
   "source": [
    "Now, we test the model using the f1 score by applying Logistic Regression to the features created from TF-IDF."
   ]
  },
  {
   "cell_type": "code",
   "execution_count": 117,
   "metadata": {},
   "outputs": [
    {
     "name": "stdout",
     "output_type": "stream",
     "text": [
      "f1 score:  0.9702434625788998\n"
     ]
    }
   ],
   "source": [
    "# Setting up the model class\n",
    "lr_model_tf_idf = LogisticRegression()\n",
    "\n",
    "# Training the model \n",
    "lr_model_tf_idf.fit(X_train_tfidf,y_train_tfidf)\n",
    "\n",
    "# Prediciting the results\n",
    "test_pred_lr_all = lr_model_tf_idf.predict(X_test_tfidf)\n",
    "\n",
    "# Evaluating the model\n",
    "#print(\"F1 score: \",f1_score(y_test_bagofwords, test_pred_lr_all))\n",
    "print(\"f1 score: \",f1_score(y_test_tfidf, test_pred_lr_all))"
   ]
  },
  {
   "cell_type": "markdown",
   "metadata": {},
   "source": [
    "Comparing the f1 scores, using Linear Regression model for Bag of Words and TF-IDF features shows that this score for TF_IDF with the value of 97.02% is less than BOW with the value of 97.89%. Sometimes this happens and sometimes TF-IDF is a better approach, so we have to be aware of the context, because this is going to be very context dependent and we have to customize all of these approaches."
   ]
  },
  {
   "cell_type": "markdown",
   "metadata": {},
   "source": [
    "### 11.2 Applying Linear Support Vector Machine (LSVM) to TF-IDF Features"
   ]
  },
  {
   "cell_type": "code",
   "execution_count": 118,
   "metadata": {},
   "outputs": [
    {
     "data": {
      "text/plain": [
       "LinearSVC()"
      ]
     },
     "execution_count": 118,
     "metadata": {},
     "output_type": "execute_result"
    }
   ],
   "source": [
    "from sklearn.svm import LinearSVC\n",
    "from sklearn.metrics import classification_report\n",
    "\n",
    "clf_model_all_new = LinearSVC()\n",
    "clf_model_all_new.fit(X_train_tfidf, y_train_tfidf)\n"
   ]
  },
  {
   "cell_type": "code",
   "execution_count": 119,
   "metadata": {},
   "outputs": [
    {
     "name": "stdout",
     "output_type": "stream",
     "text": [
      "f1 score:  0.9727520435967302\n"
     ]
    }
   ],
   "source": [
    "test_pred_clf_all = clf_model_all_new.predict(X_test_tfidf)\n",
    "\n",
    "print(\"f1 score: \", f1_score(y_test_tfidf,test_pred_clf_all))"
   ]
  },
  {
   "cell_type": "markdown",
   "metadata": {},
   "source": [
    "Comparing the f1 scores, using Linear Support Vector Machine model for Bag of Words and TF-IDF features also shows that this score for TF_IDF with the value of 97.27% is less than BOW with the value of 98.09%. "
   ]
  },
  {
   "cell_type": "code",
   "execution_count": 120,
   "metadata": {},
   "outputs": [
    {
     "data": {
      "image/png": "[encoded data removed]",
      "text/plain": [
       "<Figure size 1008x432 with 1 Axes>"
      ]
     },
     "metadata": {},
     "output_type": "display_data"
    },
    {
     "data": {
      "text/plain": [
       "<Figure size 288x576 with 0 Axes>"
      ]
     },
     "metadata": {},
     "output_type": "display_data"
    }
   ],
   "source": [
    "import matplotlib.pyplot as plt  \n",
    "from sklearn import datasets, metrics, model_selection, svm\n",
    "\n",
    "\n",
    "lr_model_all_new.fit(X_train_tfidf, y_train_tfidf)\n",
    "\n",
    "log_disp2 = metrics.plot_roc_curve(lr_model_all_new, X_test_tfidf, y_test_tfidf) \n",
    "clf_disp2 = metrics.plot_roc_curve(clf_model_all_new, X_test_tfidf, y_test_tfidf, ax = log_disp2.ax_)\n",
    "\n",
    "clf_disp.figure_.suptitle(\"TF-IDF ROC curve comparison\")\n",
    "plt.figure(figsize=(4,8))\n",
    "plt.show()"
   ]
  },
  {
   "cell_type": "markdown",
   "metadata": {},
   "source": [
    "ROC Curve comparison shows that the area under curve for SVC Classifier is the same as LR classifier. By Looking at the f1-scores of these two models, we can see that the LSVM model has a higher score than LR (97.28 vs 97.02). So, LSVM has higher accuracy than LR."
   ]
  },
  {
   "cell_type": "markdown",
   "metadata": {},
   "source": [
    "### 12. Word Embeddings Model\n",
    "\n",
    "Word embeddings is a type of word representation that allows words with similar meaning to have a similar representation. Word embeddings are in fact a class of techniques where individual words are represented as real-valued vectors in a predefined vector space.\n",
    "\n",
    "In the following image, each of the words have been represented in 2-dimensions for simplicity. It can be clearly seen that words with similar context are grouped together."
   ]
  },
  {
   "attachments": {
    "image.png": {
     "image/png": "[encoded data removed]"
    }
   },
   "cell_type": "markdown",
   "metadata": {},
   "source": [
    "![image.png](attachment:image.png)"
   ]
  },
  {
   "cell_type": "code",
   "execution_count": 121,
   "metadata": {},
   "outputs": [],
   "source": [
    "from IPython.display import Image\n",
    "from IPython.core.display import HTML"
   ]
  },
  {
   "cell_type": "markdown",
   "metadata": {},
   "source": [
    "Each word is represented by a real-valued vector, which generally has tens or hundreds of dimensions. This is in contrast to the thousands or millions of dimensions required for sparse word representations. Thus, word embeddings can drastically reduce the number of dimensions required for representing a text document."
   ]
  },
  {
   "cell_type": "code",
   "execution_count": 122,
   "metadata": {},
   "outputs": [],
   "source": [
    "# importing genism which is designed to handle large text collections using data streaming and incremental online algorithms\n",
    "import gensim   # a topic-modelling and vector space modelling toolkit"
   ]
  },
  {
   "cell_type": "markdown",
   "metadata": {},
   "source": [
    "We will be working with a pre-trained word2vec model from twitter (available at: https://drive.google.com/file/d/1GpHOJv3QXHcpTXfC0q-xwkPrVrjWeM1d/view)."
   ]
  },
  {
   "cell_type": "markdown",
   "metadata": {},
   "source": [
    "In this notebook we are not going to execute FastText modeling because it's going to take a long time to finish, but we are going to use a pre-trained Twitter Glove pretrained model which contains a lot of words represented in a 200 dimension with space. So, both generate the exact same results. Basically we are loading the twitter glove pre-trained model which contains 200 features per word and we are going to use that model in order to transform our reviews to that 200 feature spaces. Here we show some examples. For example the word electronic has 200 feature representations. So, every word has 200 features and we might want to process those words in our reviews of Amazon.       "
   ]
  },
  {
   "cell_type": "code",
   "execution_count": 123,
   "metadata": {},
   "outputs": [],
   "source": [
    "# Loading a pre-trained glove word embedding that is trained on twitter dataset \n",
    "# This word embedding is 200 dimensional in lenght (200 features per term)\n",
    "# Source: https://nlp.stanford.edu/projects/glove/\n",
    "\n",
    "model = gensim.models.KeyedVectors.load_word2vec_format(\n",
    "    os.path.join(os.getcwd(),'Twitter_Glove_pretrained.txt'),\n",
    "    binary=False,\n",
    "    unicode_errors='ignore')"
   ]
  },
  {
   "cell_type": "markdown",
   "metadata": {},
   "source": [
    "The following modeling reduces 7260 features to 200. To generate a model like the one we are importing, we can uncomment and execute the following commented code cell below and execute it. The computational expense might take more than 2h processing. "
   ]
  },
  {
   "cell_type": "code",
   "execution_count": 124,
   "metadata": {},
   "outputs": [],
   "source": [
    "#from gensim.models.fasttext import FastText\n",
    " \n",
    "#Set values for various parameters\n",
    "#feature_size = 200   # Word vector dimensionality  \n",
    "#min_word_count = 1   # Minimum word count                        \n",
    "#sample = 1e-3        # Downsample setting for frequent words\n",
    "#iter = 5000          # Represents the number of epochs\n",
    "\n",
    "#tokenized_corpus = [nltk.word_tokenize(doc) for doc in amazon_ProRev['lowercase_text_reviews']]\n",
    "#ft_model = FastText(tokenized_corpus, vector_size=feature_size, min_count = min_word_count, sample=sample,epochs=5000)\n",
    "\n",
    "#ft_model.save_model(\"model_filename.bin\") # Saving the model\n",
    "#model = fasttext.load_model(\"model_filename.bin\") # Loading the model\n",
    "\n",
    "#model=FastText.load_fasttext_format('model_filename.bin')"
   ]
  },
  {
   "cell_type": "markdown",
   "metadata": {},
   "source": [
    "We had approximately 7260 distinct tokens for 1-gram features in the bag-of-words representation, yet will only have 200 dimensions in this word embedding. This is a big difference! Moreover, word embeddings capture the context and semantics of the sentences since each word vector representation is itself based on its contextual meaning.\n",
    "Below shows two vector representations for the two example words, \"kindle\" and \"great\". They have one dimensional vector and 200 feature representations. So, every word has 200 features and we process those words in the reviews of Amazon."
   ]
  },
  {
   "cell_type": "code",
   "execution_count": 125,
   "metadata": {},
   "outputs": [
    {
     "name": "stdout",
     "output_type": "stream",
     "text": [
      "The embedding for kindle is 200 dimensional\n"
     ]
    },
    {
     "data": {
      "text/plain": [
       "array([-1.1365   ,  0.086994 , -0.29101  ,  0.13337  , -0.017813 ,\n",
       "       -0.1841   ,  0.023659 , -0.16733  ,  0.36171  ,  0.27444  ,\n",
       "       -0.29041  ,  0.33764  , -0.8788   , -0.31846  , -0.4447   ,\n",
       "       -0.37525  ,  0.37477  ,  0.24086  ,  0.58137  ,  0.4828   ,\n",
       "        0.3792   , -0.78336  ,  0.41529  ,  0.1967   ,  0.19282  ,\n",
       "        0.27406  ,  0.13427  , -0.15163  ,  0.32927  ,  0.069169 ,\n",
       "        0.33653  ,  0.69619  , -0.0068047,  0.051091 ,  0.072521 ,\n",
       "       -0.2512   ,  0.64716  , -0.35533  ,  0.26962  ,  0.047669 ,\n",
       "        0.46697  ,  0.28112  , -0.71206  ,  0.008091 , -0.22127  ,\n",
       "       -0.29619  , -0.28385  ,  0.16609  , -0.1694   , -0.16762  ,\n",
       "       -0.71636  , -0.21745  , -1.6145   ,  0.20087  ,  0.58534  ,\n",
       "        0.17644  ,  0.3522   , -0.80545  ,  0.18605  ,  0.28394  ,\n",
       "        0.11314  , -0.38085  , -0.13622  ,  0.29189  , -0.32286  ,\n",
       "        0.54839  ,  0.459    , -0.092517 ,  0.37509  , -0.20101  ,\n",
       "       -0.28203  ,  0.46435  , -0.16606  , -0.66415  ,  0.37777  ,\n",
       "        0.12511  , -0.21787  , -0.17852  ,  0.26797  , -0.51627  ,\n",
       "        0.68384  ,  0.59413  ,  0.72647  ,  0.23907  ,  0.44777  ,\n",
       "        0.35768  ,  0.37108  ,  0.18734  , -0.18411  ,  0.07914  ,\n",
       "       -0.55251  ,  0.19984  ,  0.55646  , -0.92152  ,  0.39114  ,\n",
       "       -0.67051  , -0.077487 , -0.16043  , -0.37998  ,  0.44531  ,\n",
       "        0.94641  ,  0.15604  ,  0.11946  , -0.17822  ,  0.1941   ,\n",
       "        0.23709  , -0.10611  ,  0.448    ,  0.78682  , -0.41923  ,\n",
       "       -0.24406  ,  0.41383  , -0.33736  , -0.18513  ,  0.63593  ,\n",
       "        1.2668   ,  0.096143 , -0.19721  ,  0.094493 ,  1.5137   ,\n",
       "        0.416    ,  0.67504  , -0.4861   ,  0.55368  , -0.51149  ,\n",
       "        0.63109  , -0.2136   ,  0.1466   ,  0.036026 , -0.67464  ,\n",
       "       -0.74243  ,  0.65535  , -0.73042  ,  0.53784  ,  0.081068 ,\n",
       "       -0.42578  , -0.2153   , -0.027516 , -0.45065  ,  0.025111 ,\n",
       "        0.01364  , -0.37126  , -0.45276  , -0.059541 ,  0.31024  ,\n",
       "       -0.22786  , -0.41318  , -0.11271  , -0.72175  ,  1.0286   ,\n",
       "       -0.25348  , -0.15845  , -2.7996   , -0.093243 ,  0.38724  ,\n",
       "        0.44549  , -0.36801  , -1.2305   , -0.13367  , -1.1622   ,\n",
       "       -0.02657  ,  0.23626  ,  0.16903  , -0.19363  ,  0.33006  ,\n",
       "        0.26215  ,  0.78505  ,  0.090148 ,  0.25211  ,  0.12558  ,\n",
       "        0.18063  ,  0.40665  ,  0.28036  ,  0.19862  ,  0.55893  ,\n",
       "       -0.2255   , -0.18027  , -0.44539  ,  0.20254  , -0.59465  ,\n",
       "        0.062524 , -0.38091  ,  0.15952  ,  0.30699  ,  0.021011 ,\n",
       "        0.44258  , -0.50278  ,  0.49501  , -0.32749  ,  1.4138   ,\n",
       "        0.12495  , -0.12895  ,  0.25769  ,  0.62123  ,  0.44509  ,\n",
       "        0.5326   , -0.50824  , -0.32178  ,  0.25501  , -0.014021 ],\n",
       "      dtype=float32)"
      ]
     },
     "execution_count": 125,
     "metadata": {},
     "output_type": "execute_result"
    }
   ],
   "source": [
    "import tensorflow.keras as keras\n",
    "\n",
    "#print(\"The embedding for kindle is\", len(model['kindle']), \"dimensional\")\n",
    "#model['electronic']\n",
    "\n",
    "print(\"The embedding for kindle is\", len(model['kindle']), \"dimensional\")\n",
    "model['kindle']"
   ]
  },
  {
   "cell_type": "code",
   "execution_count": 126,
   "metadata": {},
   "outputs": [
    {
     "name": "stdout",
     "output_type": "stream",
     "text": [
      "The embedding for great is 200 dimensional\n"
     ]
    },
    {
     "data": {
      "text/plain": [
       "array([ 1.0751e-01,  1.5958e-01,  1.3332e-01,  1.6642e-01, -3.2737e-02,\n",
       "        1.7592e-01,  7.2395e-01,  1.1713e-01, -3.5036e-01, -4.2937e-01,\n",
       "       -4.0925e-01, -2.5761e-01, -1.0264e+00, -1.0014e-01,  5.5390e-02,\n",
       "        2.0413e-01,  1.2807e-01, -2.6337e-02, -6.9719e-02, -3.6193e-02,\n",
       "       -1.9917e-01,  3.9437e-02, -9.2358e-02,  2.6981e-01, -2.0951e-01,\n",
       "        1.5455e+00, -2.8123e-01,  3.2046e-01,  4.5545e-01, -3.8841e-02,\n",
       "       -1.7369e-01, -2.3251e-01, -5.9551e-02,  2.3250e-01,  4.4214e-01,\n",
       "        3.3666e-01,  3.9352e-02, -1.2462e-01, -2.9317e-01, -4.8857e-02,\n",
       "        6.9021e-01,  7.1279e-02,  1.0252e-01,  1.6122e-01, -2.3536e-01,\n",
       "        6.2724e-02,  2.0222e-01,  5.0234e-02, -1.1611e-01,  2.8909e-02,\n",
       "       -1.1109e-01, -5.0241e-02, -5.9063e-01, -8.8747e-02,  5.1444e-01,\n",
       "       -1.3715e-01,  1.7194e-01, -8.3657e-02,  9.6333e-02, -9.7063e-02,\n",
       "        3.4003e-03, -7.0180e-02, -5.9588e-01, -2.8264e-01,  1.2529e-01,\n",
       "        2.4359e-01, -4.9082e-01, -4.2533e-02,  2.2158e-01, -2.1491e-01,\n",
       "       -4.2101e-02,  2.3359e-01,  3.1978e-01,  3.5063e-01,  6.1748e-01,\n",
       "       -1.0197e-01,  5.3357e-01, -3.6005e-01, -1.7212e-02,  1.6645e-01,\n",
       "        8.9432e-01,  2.7322e-02,  3.0683e-01,  1.9715e-02,  6.0516e-01,\n",
       "        4.1085e-01,  5.5945e-01, -8.4501e-02,  3.5933e-01,  1.0216e-01,\n",
       "        2.6675e-01, -6.0445e-01, -1.0513e-01, -1.9248e-01,  2.9150e-01,\n",
       "       -1.0537e-01,  5.2671e-01,  2.3763e-01, -1.3640e-01, -6.1029e-02,\n",
       "        1.0081e-01,  7.4541e-02, -1.4899e-01, -2.2301e-01, -1.3653e-02,\n",
       "        4.0192e-02,  5.5821e-03, -2.9936e-02,  2.7338e-02,  5.9412e-01,\n",
       "       -1.0302e-01,  9.0319e-02,  3.1055e-01,  6.3336e-01,  2.9762e-01,\n",
       "       -8.4671e-02, -1.2552e-01, -6.3930e-01,  3.8613e-01,  6.6371e-01,\n",
       "        5.1345e-01,  2.0719e-01,  2.1100e-01,  1.4579e-01, -7.3321e-02,\n",
       "       -7.0593e-01, -6.2578e-02, -2.5470e-01,  1.1986e-01,  1.6102e-01,\n",
       "        3.2958e-02, -2.4159e-01, -2.5708e-01,  3.2051e-01, -1.1569e-01,\n",
       "        6.7540e-03, -1.1688e-01, -3.6158e-02, -6.5320e-01,  4.9560e-01,\n",
       "       -3.9429e-02, -1.8395e-01,  2.3295e-01,  5.4128e-01,  2.4568e-02,\n",
       "       -1.9862e-01,  2.1041e-01,  9.3798e-02,  8.3096e-03, -6.1551e-02,\n",
       "        2.3262e-01, -4.2756e-02, -5.3511e+00,  3.0604e-01,  3.3578e-01,\n",
       "       -3.6771e-01,  5.6225e-01, -8.2341e-02,  2.9809e-01,  2.5189e-01,\n",
       "       -4.6203e-01,  1.0452e-01, -3.9540e-01,  3.6961e-01,  1.3093e-01,\n",
       "        1.6653e-01, -3.1915e-01,  1.6974e-01,  4.2575e-01,  3.6420e-01,\n",
       "        3.7175e-01, -1.9450e-01,  6.2702e-02,  4.9775e-01,  3.1842e-02,\n",
       "       -6.4072e-02,  7.6183e-02, -5.9534e-01,  3.1731e-01, -2.8254e-01,\n",
       "        1.5987e-01, -9.2750e-02, -4.1426e-02,  7.5799e-02,  9.5740e-03,\n",
       "       -2.1532e-01, -3.1419e-01, -1.5144e-01, -4.6584e-01, -1.1069e-01,\n",
       "       -4.0130e-01,  3.9266e-02,  8.1880e-01, -4.2955e-02,  2.1698e-01,\n",
       "       -6.0347e-02,  3.3431e-01, -9.9549e-02, -1.8156e-01, -8.5143e-02],\n",
       "      dtype=float32)"
      ]
     },
     "execution_count": 126,
     "metadata": {},
     "output_type": "execute_result"
    }
   ],
   "source": [
    "print(\"The embedding for great is\", len(model['great']), \"dimensional\")\n",
    "model['great']"
   ]
  },
  {
   "cell_type": "markdown",
   "metadata": {},
   "source": [
    "To find the vector for an entire review, we get the vector for each word in the review separately and take a simple average.\n",
    "Here we are joining that pre-trained model and that word presentation to our reviews, so we can have 200 features per observation per review. \n",
    "\n",
    "Now we calculate the vector for every single review in the dataset."
   ]
  },
  {
   "cell_type": "code",
   "execution_count": 127,
   "metadata": {},
   "outputs": [],
   "source": [
    "# List for adding each average rperesentation per observation\n",
    "review_embeddings = []\n",
    "\n",
    "# Review_average\n",
    "Review_average = np.zeros(model.vector_size)\n",
    "\n",
    "# For each review in the review's dataset\n",
    "for each_review in amazon_ProRev['lowercase_text_reviews']:\n",
    "     count_val = 0\n",
    "     # For each word in the review\n",
    "     for each_word in word_tokenize(each_review):     \n",
    "        if(each_word.lower() in model):\n",
    "            Review_average += model[each_word.lower()]\n",
    "            count_val += 1\n",
    "    \n",
    "     review_embeddings.append(list(Review_average/count_val))"
   ]
  },
  {
   "cell_type": "markdown",
   "metadata": {},
   "source": [
    "Let's convert the list of vector representations for each review into a DataFrame and split it into train and test sets."
   ]
  },
  {
   "cell_type": "code",
   "execution_count": 128,
   "metadata": {
    "scrolled": true
   },
   "outputs": [
    {
     "data": {
      "text/html": [
       "<div>\n",
       "<style scoped>\n",
       "    .dataframe tbody tr th:only-of-type {\n",
       "        vertical-align: middle;\n",
       "    }\n",
       "\n",
       "    .dataframe tbody tr th {\n",
       "        vertical-align: top;\n",
       "    }\n",
       "\n",
       "    .dataframe thead th {\n",
       "        text-align: right;\n",
       "    }\n",
       "</style>\n",
       "<table border=\"1\" class=\"dataframe\">\n",
       "  <thead>\n",
       "    <tr style=\"text-align: right;\">\n",
       "      <th></th>\n",
       "      <th>0</th>\n",
       "      <th>1</th>\n",
       "      <th>2</th>\n",
       "      <th>3</th>\n",
       "      <th>4</th>\n",
       "      <th>5</th>\n",
       "      <th>6</th>\n",
       "      <th>7</th>\n",
       "      <th>8</th>\n",
       "      <th>9</th>\n",
       "      <th>...</th>\n",
       "      <th>190</th>\n",
       "      <th>191</th>\n",
       "      <th>192</th>\n",
       "      <th>193</th>\n",
       "      <th>194</th>\n",
       "      <th>195</th>\n",
       "      <th>196</th>\n",
       "      <th>197</th>\n",
       "      <th>198</th>\n",
       "      <th>199</th>\n",
       "    </tr>\n",
       "  </thead>\n",
       "  <tbody>\n",
       "    <tr>\n",
       "      <th>0</th>\n",
       "      <td>0.171781</td>\n",
       "      <td>0.280982</td>\n",
       "      <td>0.027447</td>\n",
       "      <td>0.161216</td>\n",
       "      <td>0.058600</td>\n",
       "      <td>0.245936</td>\n",
       "      <td>0.404202</td>\n",
       "      <td>0.014055</td>\n",
       "      <td>-0.069028</td>\n",
       "      <td>-0.182563</td>\n",
       "      <td>...</td>\n",
       "      <td>-0.046765</td>\n",
       "      <td>0.022014</td>\n",
       "      <td>0.240575</td>\n",
       "      <td>-0.012065</td>\n",
       "      <td>-0.032218</td>\n",
       "      <td>-0.104050</td>\n",
       "      <td>0.111765</td>\n",
       "      <td>0.210682</td>\n",
       "      <td>-0.253304</td>\n",
       "      <td>-0.015064</td>\n",
       "    </tr>\n",
       "    <tr>\n",
       "      <th>1</th>\n",
       "      <td>0.263232</td>\n",
       "      <td>0.625941</td>\n",
       "      <td>-0.009719</td>\n",
       "      <td>0.351928</td>\n",
       "      <td>0.044062</td>\n",
       "      <td>0.777751</td>\n",
       "      <td>1.167693</td>\n",
       "      <td>-0.166119</td>\n",
       "      <td>-0.340320</td>\n",
       "      <td>-0.281904</td>\n",
       "      <td>...</td>\n",
       "      <td>-0.155125</td>\n",
       "      <td>0.111195</td>\n",
       "      <td>0.701369</td>\n",
       "      <td>-0.072399</td>\n",
       "      <td>-0.120763</td>\n",
       "      <td>-0.236904</td>\n",
       "      <td>0.336933</td>\n",
       "      <td>0.503639</td>\n",
       "      <td>-0.656968</td>\n",
       "      <td>0.023602</td>\n",
       "    </tr>\n",
       "    <tr>\n",
       "      <th>2</th>\n",
       "      <td>0.230841</td>\n",
       "      <td>0.292102</td>\n",
       "      <td>-0.010109</td>\n",
       "      <td>0.310229</td>\n",
       "      <td>-0.030532</td>\n",
       "      <td>0.455306</td>\n",
       "      <td>0.864292</td>\n",
       "      <td>-0.103644</td>\n",
       "      <td>-0.222353</td>\n",
       "      <td>-0.260561</td>\n",
       "      <td>...</td>\n",
       "      <td>-0.246803</td>\n",
       "      <td>0.081568</td>\n",
       "      <td>0.415033</td>\n",
       "      <td>-0.074330</td>\n",
       "      <td>-0.045787</td>\n",
       "      <td>-0.150703</td>\n",
       "      <td>0.220990</td>\n",
       "      <td>0.351121</td>\n",
       "      <td>-0.540862</td>\n",
       "      <td>-0.097054</td>\n",
       "    </tr>\n",
       "    <tr>\n",
       "      <th>3</th>\n",
       "      <td>0.598997</td>\n",
       "      <td>0.678623</td>\n",
       "      <td>0.056329</td>\n",
       "      <td>0.843472</td>\n",
       "      <td>-0.074449</td>\n",
       "      <td>1.114259</td>\n",
       "      <td>2.059598</td>\n",
       "      <td>-0.299328</td>\n",
       "      <td>-0.679647</td>\n",
       "      <td>-0.574911</td>\n",
       "      <td>...</td>\n",
       "      <td>-0.520355</td>\n",
       "      <td>0.082791</td>\n",
       "      <td>0.850409</td>\n",
       "      <td>-0.169849</td>\n",
       "      <td>0.095377</td>\n",
       "      <td>-0.416752</td>\n",
       "      <td>0.624420</td>\n",
       "      <td>0.749254</td>\n",
       "      <td>-1.114101</td>\n",
       "      <td>-0.194192</td>\n",
       "    </tr>\n",
       "    <tr>\n",
       "      <th>4</th>\n",
       "      <td>0.375867</td>\n",
       "      <td>0.433827</td>\n",
       "      <td>0.051393</td>\n",
       "      <td>0.638382</td>\n",
       "      <td>-0.050910</td>\n",
       "      <td>0.647300</td>\n",
       "      <td>1.338901</td>\n",
       "      <td>-0.172095</td>\n",
       "      <td>-0.387211</td>\n",
       "      <td>-0.360117</td>\n",
       "      <td>...</td>\n",
       "      <td>-0.323968</td>\n",
       "      <td>0.096034</td>\n",
       "      <td>0.538058</td>\n",
       "      <td>-0.100422</td>\n",
       "      <td>0.077427</td>\n",
       "      <td>-0.453423</td>\n",
       "      <td>0.269514</td>\n",
       "      <td>0.465129</td>\n",
       "      <td>-0.645417</td>\n",
       "      <td>-0.080890</td>\n",
       "    </tr>\n",
       "    <tr>\n",
       "      <th>...</th>\n",
       "      <td>...</td>\n",
       "      <td>...</td>\n",
       "      <td>...</td>\n",
       "      <td>...</td>\n",
       "      <td>...</td>\n",
       "      <td>...</td>\n",
       "      <td>...</td>\n",
       "      <td>...</td>\n",
       "      <td>...</td>\n",
       "      <td>...</td>\n",
       "      <td>...</td>\n",
       "      <td>...</td>\n",
       "      <td>...</td>\n",
       "      <td>...</td>\n",
       "      <td>...</td>\n",
       "      <td>...</td>\n",
       "      <td>...</td>\n",
       "      <td>...</td>\n",
       "      <td>...</td>\n",
       "      <td>...</td>\n",
       "      <td>...</td>\n",
       "    </tr>\n",
       "    <tr>\n",
       "      <th>3799</th>\n",
       "      <td>811.991704</td>\n",
       "      <td>1419.298328</td>\n",
       "      <td>417.095537</td>\n",
       "      <td>1221.202304</td>\n",
       "      <td>-364.264411</td>\n",
       "      <td>1503.477618</td>\n",
       "      <td>4211.175694</td>\n",
       "      <td>-672.749788</td>\n",
       "      <td>-557.911605</td>\n",
       "      <td>-1253.467539</td>\n",
       "      <td>...</td>\n",
       "      <td>-705.114754</td>\n",
       "      <td>-12.934915</td>\n",
       "      <td>984.266545</td>\n",
       "      <td>-365.159254</td>\n",
       "      <td>193.826833</td>\n",
       "      <td>-931.420858</td>\n",
       "      <td>1260.514975</td>\n",
       "      <td>1611.782799</td>\n",
       "      <td>-962.514926</td>\n",
       "      <td>70.725844</td>\n",
       "    </tr>\n",
       "    <tr>\n",
       "      <th>3800</th>\n",
       "      <td>406.042144</td>\n",
       "      <td>709.784049</td>\n",
       "      <td>208.526471</td>\n",
       "      <td>610.618671</td>\n",
       "      <td>-182.192334</td>\n",
       "      <td>751.866554</td>\n",
       "      <td>2105.848569</td>\n",
       "      <td>-336.539139</td>\n",
       "      <td>-278.959292</td>\n",
       "      <td>-626.823503</td>\n",
       "      <td>...</td>\n",
       "      <td>-352.564708</td>\n",
       "      <td>-6.514775</td>\n",
       "      <td>492.271302</td>\n",
       "      <td>-182.596382</td>\n",
       "      <td>96.945621</td>\n",
       "      <td>-465.757030</td>\n",
       "      <td>630.363093</td>\n",
       "      <td>806.163293</td>\n",
       "      <td>-481.367798</td>\n",
       "      <td>35.311485</td>\n",
       "    </tr>\n",
       "    <tr>\n",
       "      <th>3801</th>\n",
       "      <td>2300.783632</td>\n",
       "      <td>4022.225169</td>\n",
       "      <td>1181.499235</td>\n",
       "      <td>3460.279545</td>\n",
       "      <td>-1032.715042</td>\n",
       "      <td>4260.825898</td>\n",
       "      <td>11933.911941</td>\n",
       "      <td>-1907.222939</td>\n",
       "      <td>-1580.681998</td>\n",
       "      <td>-3552.260073</td>\n",
       "      <td>...</td>\n",
       "      <td>-1997.763087</td>\n",
       "      <td>-36.987766</td>\n",
       "      <td>2789.808304</td>\n",
       "      <td>-1034.789838</td>\n",
       "      <td>549.565724</td>\n",
       "      <td>-2639.453861</td>\n",
       "      <td>3572.225908</td>\n",
       "      <td>4568.473324</td>\n",
       "      <td>-2727.738094</td>\n",
       "      <td>200.032871</td>\n",
       "    </tr>\n",
       "    <tr>\n",
       "      <th>3802</th>\n",
       "      <td>184.110977</td>\n",
       "      <td>321.989694</td>\n",
       "      <td>94.424399</td>\n",
       "      <td>276.962000</td>\n",
       "      <td>-82.731172</td>\n",
       "      <td>340.983537</td>\n",
       "      <td>955.292815</td>\n",
       "      <td>-152.632367</td>\n",
       "      <td>-126.483091</td>\n",
       "      <td>-284.283115</td>\n",
       "      <td>...</td>\n",
       "      <td>-159.897921</td>\n",
       "      <td>-2.960803</td>\n",
       "      <td>223.219522</td>\n",
       "      <td>-82.925096</td>\n",
       "      <td>44.001425</td>\n",
       "      <td>-211.312706</td>\n",
       "      <td>285.914487</td>\n",
       "      <td>365.685911</td>\n",
       "      <td>-218.281637</td>\n",
       "      <td>16.079316</td>\n",
       "    </tr>\n",
       "    <tr>\n",
       "      <th>3803</th>\n",
       "      <td>73.543828</td>\n",
       "      <td>128.586547</td>\n",
       "      <td>37.694160</td>\n",
       "      <td>110.549555</td>\n",
       "      <td>-32.967656</td>\n",
       "      <td>136.119938</td>\n",
       "      <td>381.491111</td>\n",
       "      <td>-60.957708</td>\n",
       "      <td>-50.453279</td>\n",
       "      <td>-113.580688</td>\n",
       "      <td>...</td>\n",
       "      <td>-63.755076</td>\n",
       "      <td>-1.267912</td>\n",
       "      <td>89.123647</td>\n",
       "      <td>-33.159676</td>\n",
       "      <td>17.657571</td>\n",
       "      <td>-84.465394</td>\n",
       "      <td>114.179371</td>\n",
       "      <td>146.047920</td>\n",
       "      <td>-87.136346</td>\n",
       "      <td>6.470142</td>\n",
       "    </tr>\n",
       "  </tbody>\n",
       "</table>\n",
       "<p>3804 rows × 200 columns</p>\n",
       "</div>"
      ],
      "text/plain": [
       "              0            1            2            3            4    \\\n",
       "0        0.171781     0.280982     0.027447     0.161216     0.058600   \n",
       "1        0.263232     0.625941    -0.009719     0.351928     0.044062   \n",
       "2        0.230841     0.292102    -0.010109     0.310229    -0.030532   \n",
       "3        0.598997     0.678623     0.056329     0.843472    -0.074449   \n",
       "4        0.375867     0.433827     0.051393     0.638382    -0.050910   \n",
       "...           ...          ...          ...          ...          ...   \n",
       "3799   811.991704  1419.298328   417.095537  1221.202304  -364.264411   \n",
       "3800   406.042144   709.784049   208.526471   610.618671  -182.192334   \n",
       "3801  2300.783632  4022.225169  1181.499235  3460.279545 -1032.715042   \n",
       "3802   184.110977   321.989694    94.424399   276.962000   -82.731172   \n",
       "3803    73.543828   128.586547    37.694160   110.549555   -32.967656   \n",
       "\n",
       "              5             6            7            8            9    ...  \\\n",
       "0        0.245936      0.404202     0.014055    -0.069028    -0.182563  ...   \n",
       "1        0.777751      1.167693    -0.166119    -0.340320    -0.281904  ...   \n",
       "2        0.455306      0.864292    -0.103644    -0.222353    -0.260561  ...   \n",
       "3        1.114259      2.059598    -0.299328    -0.679647    -0.574911  ...   \n",
       "4        0.647300      1.338901    -0.172095    -0.387211    -0.360117  ...   \n",
       "...           ...           ...          ...          ...          ...  ...   \n",
       "3799  1503.477618   4211.175694  -672.749788  -557.911605 -1253.467539  ...   \n",
       "3800   751.866554   2105.848569  -336.539139  -278.959292  -626.823503  ...   \n",
       "3801  4260.825898  11933.911941 -1907.222939 -1580.681998 -3552.260073  ...   \n",
       "3802   340.983537    955.292815  -152.632367  -126.483091  -284.283115  ...   \n",
       "3803   136.119938    381.491111   -60.957708   -50.453279  -113.580688  ...   \n",
       "\n",
       "              190        191          192          193         194  \\\n",
       "0       -0.046765   0.022014     0.240575    -0.012065   -0.032218   \n",
       "1       -0.155125   0.111195     0.701369    -0.072399   -0.120763   \n",
       "2       -0.246803   0.081568     0.415033    -0.074330   -0.045787   \n",
       "3       -0.520355   0.082791     0.850409    -0.169849    0.095377   \n",
       "4       -0.323968   0.096034     0.538058    -0.100422    0.077427   \n",
       "...           ...        ...          ...          ...         ...   \n",
       "3799  -705.114754 -12.934915   984.266545  -365.159254  193.826833   \n",
       "3800  -352.564708  -6.514775   492.271302  -182.596382   96.945621   \n",
       "3801 -1997.763087 -36.987766  2789.808304 -1034.789838  549.565724   \n",
       "3802  -159.897921  -2.960803   223.219522   -82.925096   44.001425   \n",
       "3803   -63.755076  -1.267912    89.123647   -33.159676   17.657571   \n",
       "\n",
       "              195          196          197          198         199  \n",
       "0       -0.104050     0.111765     0.210682    -0.253304   -0.015064  \n",
       "1       -0.236904     0.336933     0.503639    -0.656968    0.023602  \n",
       "2       -0.150703     0.220990     0.351121    -0.540862   -0.097054  \n",
       "3       -0.416752     0.624420     0.749254    -1.114101   -0.194192  \n",
       "4       -0.453423     0.269514     0.465129    -0.645417   -0.080890  \n",
       "...           ...          ...          ...          ...         ...  \n",
       "3799  -931.420858  1260.514975  1611.782799  -962.514926   70.725844  \n",
       "3800  -465.757030   630.363093   806.163293  -481.367798   35.311485  \n",
       "3801 -2639.453861  3572.225908  4568.473324 -2727.738094  200.032871  \n",
       "3802  -211.312706   285.914487   365.685911  -218.281637   16.079316  \n",
       "3803   -84.465394   114.179371   146.047920   -87.136346    6.470142  \n",
       "\n",
       "[3804 rows x 200 columns]"
      ]
     },
     "execution_count": 128,
     "metadata": {},
     "output_type": "execute_result"
    }
   ],
   "source": [
    "# Converting to a DataFrame object\n",
    "embedding_data = pd.DataFrame(review_embeddings)\n",
    "\n",
    "# Filling null values\n",
    "# Null values are the ones that the Twitter pre-trained model is not considering (few of them)\n",
    "embedding_data = embedding_data.fillna(0)\n",
    "embedding_data"
   ]
  },
  {
   "cell_type": "code",
   "execution_count": 129,
   "metadata": {},
   "outputs": [
    {
     "data": {
      "text/plain": [
       "0      0\n",
       "1      0\n",
       "2      0\n",
       "3      0\n",
       "4      0\n",
       "      ..\n",
       "195    0\n",
       "196    0\n",
       "197    0\n",
       "198    0\n",
       "199    0\n",
       "Length: 200, dtype: int64"
      ]
     },
     "execution_count": 129,
     "metadata": {},
     "output_type": "execute_result"
    }
   ],
   "source": [
    "embedding_data.isnull().sum()"
   ]
  },
  {
   "cell_type": "code",
   "execution_count": 130,
   "metadata": {},
   "outputs": [
    {
     "data": {
      "text/plain": [
       "(3804, 200)"
      ]
     },
     "execution_count": 130,
     "metadata": {},
     "output_type": "execute_result"
    }
   ],
   "source": [
    "embedding_data.shape"
   ]
  },
  {
   "cell_type": "code",
   "execution_count": 131,
   "metadata": {},
   "outputs": [
    {
     "name": "stdout",
     "output_type": "stream",
     "text": [
      "<class 'pandas.core.frame.DataFrame'>\n",
      "RangeIndex: 3804 entries, 0 to 3803\n",
      "Columns: 200 entries, 0 to 199\n",
      "dtypes: float64(200)\n",
      "memory usage: 5.8 MB\n"
     ]
    }
   ],
   "source": [
    "embedding_data.info()"
   ]
  },
  {
   "cell_type": "markdown",
   "metadata": {},
   "source": [
    "Now we can implement a classifier for the model. "
   ]
  },
  {
   "cell_type": "markdown",
   "metadata": {},
   "source": [
    "### 12.1 Applying Logistic Regression to Word Embedding Features\n"
   ]
  },
  {
   "cell_type": "code",
   "execution_count": 132,
   "metadata": {},
   "outputs": [],
   "source": [
    "X_train_embed, X_test_embed, y_train_embed, y_test_embed = train_test_split(embedding_data, \n",
    "                                                                         amazon_ProRev['Sentiment_rating'], \n",
    "                                                                         test_size = 0.2,\n",
    "                                                                         random_state = 0)"
   ]
  },
  {
   "cell_type": "code",
   "execution_count": 133,
   "metadata": {},
   "outputs": [
    {
     "data": {
      "text/html": [
       "<div>\n",
       "<style scoped>\n",
       "    .dataframe tbody tr th:only-of-type {\n",
       "        vertical-align: middle;\n",
       "    }\n",
       "\n",
       "    .dataframe tbody tr th {\n",
       "        vertical-align: top;\n",
       "    }\n",
       "\n",
       "    .dataframe thead th {\n",
       "        text-align: right;\n",
       "    }\n",
       "</style>\n",
       "<table border=\"1\" class=\"dataframe\">\n",
       "  <thead>\n",
       "    <tr style=\"text-align: right;\">\n",
       "      <th></th>\n",
       "      <th>0</th>\n",
       "      <th>1</th>\n",
       "      <th>2</th>\n",
       "      <th>3</th>\n",
       "      <th>4</th>\n",
       "      <th>5</th>\n",
       "      <th>6</th>\n",
       "      <th>7</th>\n",
       "      <th>8</th>\n",
       "      <th>9</th>\n",
       "      <th>...</th>\n",
       "      <th>190</th>\n",
       "      <th>191</th>\n",
       "      <th>192</th>\n",
       "      <th>193</th>\n",
       "      <th>194</th>\n",
       "      <th>195</th>\n",
       "      <th>196</th>\n",
       "      <th>197</th>\n",
       "      <th>198</th>\n",
       "      <th>199</th>\n",
       "    </tr>\n",
       "  </thead>\n",
       "  <tbody>\n",
       "    <tr>\n",
       "      <th>2673</th>\n",
       "      <td>323.531997</td>\n",
       "      <td>605.111107</td>\n",
       "      <td>191.836714</td>\n",
       "      <td>530.669015</td>\n",
       "      <td>-185.413955</td>\n",
       "      <td>656.958029</td>\n",
       "      <td>1773.769671</td>\n",
       "      <td>-288.381256</td>\n",
       "      <td>-249.337957</td>\n",
       "      <td>-578.824709</td>\n",
       "      <td>...</td>\n",
       "      <td>-304.258443</td>\n",
       "      <td>0.042894</td>\n",
       "      <td>451.596534</td>\n",
       "      <td>-133.786345</td>\n",
       "      <td>77.617958</td>\n",
       "      <td>-375.970936</td>\n",
       "      <td>565.444821</td>\n",
       "      <td>685.083569</td>\n",
       "      <td>-452.692942</td>\n",
       "      <td>31.076170</td>\n",
       "    </tr>\n",
       "    <tr>\n",
       "      <th>1549</th>\n",
       "      <td>226.332951</td>\n",
       "      <td>433.380840</td>\n",
       "      <td>110.678391</td>\n",
       "      <td>334.849416</td>\n",
       "      <td>-131.565841</td>\n",
       "      <td>426.632027</td>\n",
       "      <td>1219.928838</td>\n",
       "      <td>-213.931569</td>\n",
       "      <td>-171.170112</td>\n",
       "      <td>-361.329549</td>\n",
       "      <td>...</td>\n",
       "      <td>-194.264046</td>\n",
       "      <td>-0.391452</td>\n",
       "      <td>321.104409</td>\n",
       "      <td>-104.321982</td>\n",
       "      <td>67.713942</td>\n",
       "      <td>-249.131527</td>\n",
       "      <td>366.692309</td>\n",
       "      <td>464.051946</td>\n",
       "      <td>-286.382633</td>\n",
       "      <td>14.525135</td>\n",
       "    </tr>\n",
       "    <tr>\n",
       "      <th>3772</th>\n",
       "      <td>132.713673</td>\n",
       "      <td>231.963425</td>\n",
       "      <td>68.755305</td>\n",
       "      <td>200.008838</td>\n",
       "      <td>-59.731765</td>\n",
       "      <td>246.563202</td>\n",
       "      <td>688.899401</td>\n",
       "      <td>-110.213373</td>\n",
       "      <td>-91.513920</td>\n",
       "      <td>-205.617702</td>\n",
       "      <td>...</td>\n",
       "      <td>-115.548848</td>\n",
       "      <td>-2.044512</td>\n",
       "      <td>161.016381</td>\n",
       "      <td>-59.633787</td>\n",
       "      <td>31.593945</td>\n",
       "      <td>-152.203253</td>\n",
       "      <td>206.812005</td>\n",
       "      <td>263.851646</td>\n",
       "      <td>-157.981918</td>\n",
       "      <td>11.575498</td>\n",
       "    </tr>\n",
       "    <tr>\n",
       "      <th>2729</th>\n",
       "      <td>319.684975</td>\n",
       "      <td>597.512884</td>\n",
       "      <td>192.063767</td>\n",
       "      <td>530.363009</td>\n",
       "      <td>-184.185899</td>\n",
       "      <td>651.591570</td>\n",
       "      <td>1758.893046</td>\n",
       "      <td>-283.844632</td>\n",
       "      <td>-245.703667</td>\n",
       "      <td>-572.522186</td>\n",
       "      <td>...</td>\n",
       "      <td>-301.335337</td>\n",
       "      <td>0.758796</td>\n",
       "      <td>443.396215</td>\n",
       "      <td>-132.265497</td>\n",
       "      <td>74.941466</td>\n",
       "      <td>-373.553248</td>\n",
       "      <td>559.824303</td>\n",
       "      <td>679.778815</td>\n",
       "      <td>-449.067106</td>\n",
       "      <td>32.227386</td>\n",
       "    </tr>\n",
       "    <tr>\n",
       "      <th>548</th>\n",
       "      <td>87.795112</td>\n",
       "      <td>131.610546</td>\n",
       "      <td>39.897306</td>\n",
       "      <td>139.580400</td>\n",
       "      <td>-40.735739</td>\n",
       "      <td>161.305996</td>\n",
       "      <td>400.569250</td>\n",
       "      <td>-86.973667</td>\n",
       "      <td>-73.943744</td>\n",
       "      <td>-116.492284</td>\n",
       "      <td>...</td>\n",
       "      <td>-81.121110</td>\n",
       "      <td>30.401582</td>\n",
       "      <td>110.239961</td>\n",
       "      <td>-12.416444</td>\n",
       "      <td>22.517521</td>\n",
       "      <td>-89.359811</td>\n",
       "      <td>112.151458</td>\n",
       "      <td>159.030039</td>\n",
       "      <td>-102.190529</td>\n",
       "      <td>-19.888000</td>\n",
       "    </tr>\n",
       "    <tr>\n",
       "      <th>...</th>\n",
       "      <td>...</td>\n",
       "      <td>...</td>\n",
       "      <td>...</td>\n",
       "      <td>...</td>\n",
       "      <td>...</td>\n",
       "      <td>...</td>\n",
       "      <td>...</td>\n",
       "      <td>...</td>\n",
       "      <td>...</td>\n",
       "      <td>...</td>\n",
       "      <td>...</td>\n",
       "      <td>...</td>\n",
       "      <td>...</td>\n",
       "      <td>...</td>\n",
       "      <td>...</td>\n",
       "      <td>...</td>\n",
       "      <td>...</td>\n",
       "      <td>...</td>\n",
       "      <td>...</td>\n",
       "      <td>...</td>\n",
       "      <td>...</td>\n",
       "    </tr>\n",
       "    <tr>\n",
       "      <th>835</th>\n",
       "      <td>217.608608</td>\n",
       "      <td>373.553672</td>\n",
       "      <td>122.925607</td>\n",
       "      <td>350.812242</td>\n",
       "      <td>-106.732354</td>\n",
       "      <td>429.612062</td>\n",
       "      <td>1106.667081</td>\n",
       "      <td>-199.907240</td>\n",
       "      <td>-169.924016</td>\n",
       "      <td>-345.182630</td>\n",
       "      <td>...</td>\n",
       "      <td>-194.506519</td>\n",
       "      <td>39.264924</td>\n",
       "      <td>305.744928</td>\n",
       "      <td>-64.149291</td>\n",
       "      <td>48.117198</td>\n",
       "      <td>-244.261556</td>\n",
       "      <td>342.032365</td>\n",
       "      <td>423.903671</td>\n",
       "      <td>-276.967936</td>\n",
       "      <td>-20.237345</td>\n",
       "    </tr>\n",
       "    <tr>\n",
       "      <th>3264</th>\n",
       "      <td>106.590650</td>\n",
       "      <td>191.421799</td>\n",
       "      <td>60.083709</td>\n",
       "      <td>167.596796</td>\n",
       "      <td>-54.046059</td>\n",
       "      <td>207.130609</td>\n",
       "      <td>565.657838</td>\n",
       "      <td>-91.088393</td>\n",
       "      <td>-76.487172</td>\n",
       "      <td>-175.589842</td>\n",
       "      <td>...</td>\n",
       "      <td>-96.038358</td>\n",
       "      <td>-1.001547</td>\n",
       "      <td>136.527437</td>\n",
       "      <td>-45.845529</td>\n",
       "      <td>24.082291</td>\n",
       "      <td>-123.233374</td>\n",
       "      <td>174.012492</td>\n",
       "      <td>218.276971</td>\n",
       "      <td>-136.888098</td>\n",
       "      <td>10.479167</td>\n",
       "    </tr>\n",
       "    <tr>\n",
       "      <th>1653</th>\n",
       "      <td>210.745336</td>\n",
       "      <td>410.156668</td>\n",
       "      <td>101.198130</td>\n",
       "      <td>316.472471</td>\n",
       "      <td>-127.212435</td>\n",
       "      <td>401.068254</td>\n",
       "      <td>1151.437317</td>\n",
       "      <td>-202.933869</td>\n",
       "      <td>-162.652538</td>\n",
       "      <td>-341.908327</td>\n",
       "      <td>...</td>\n",
       "      <td>-186.613759</td>\n",
       "      <td>-0.700054</td>\n",
       "      <td>302.114402</td>\n",
       "      <td>-97.315076</td>\n",
       "      <td>62.903766</td>\n",
       "      <td>-232.543036</td>\n",
       "      <td>344.518929</td>\n",
       "      <td>436.162285</td>\n",
       "      <td>-267.164956</td>\n",
       "      <td>16.594103</td>\n",
       "    </tr>\n",
       "    <tr>\n",
       "      <th>2607</th>\n",
       "      <td>25.574538</td>\n",
       "      <td>47.992997</td>\n",
       "      <td>15.007500</td>\n",
       "      <td>41.388483</td>\n",
       "      <td>-14.626243</td>\n",
       "      <td>51.549508</td>\n",
       "      <td>140.000083</td>\n",
       "      <td>-22.878698</td>\n",
       "      <td>-19.775231</td>\n",
       "      <td>-45.568758</td>\n",
       "      <td>...</td>\n",
       "      <td>-23.918792</td>\n",
       "      <td>0.016514</td>\n",
       "      <td>35.991889</td>\n",
       "      <td>-10.702594</td>\n",
       "      <td>6.104916</td>\n",
       "      <td>-29.652224</td>\n",
       "      <td>44.761979</td>\n",
       "      <td>53.783441</td>\n",
       "      <td>-35.479185</td>\n",
       "      <td>2.264670</td>\n",
       "    </tr>\n",
       "    <tr>\n",
       "      <th>2732</th>\n",
       "      <td>210.872593</td>\n",
       "      <td>394.180611</td>\n",
       "      <td>126.703712</td>\n",
       "      <td>349.922211</td>\n",
       "      <td>-121.588010</td>\n",
       "      <td>429.836995</td>\n",
       "      <td>1160.226966</td>\n",
       "      <td>-187.231461</td>\n",
       "      <td>-162.128334</td>\n",
       "      <td>-377.739265</td>\n",
       "      <td>...</td>\n",
       "      <td>-198.756249</td>\n",
       "      <td>0.686914</td>\n",
       "      <td>292.417718</td>\n",
       "      <td>-87.316587</td>\n",
       "      <td>49.364454</td>\n",
       "      <td>-246.401727</td>\n",
       "      <td>369.189123</td>\n",
       "      <td>448.521485</td>\n",
       "      <td>-296.265734</td>\n",
       "      <td>21.286962</td>\n",
       "    </tr>\n",
       "  </tbody>\n",
       "</table>\n",
       "<p>3043 rows × 200 columns</p>\n",
       "</div>"
      ],
      "text/plain": [
       "             0           1           2           3           4           5    \\\n",
       "2673  323.531997  605.111107  191.836714  530.669015 -185.413955  656.958029   \n",
       "1549  226.332951  433.380840  110.678391  334.849416 -131.565841  426.632027   \n",
       "3772  132.713673  231.963425   68.755305  200.008838  -59.731765  246.563202   \n",
       "2729  319.684975  597.512884  192.063767  530.363009 -184.185899  651.591570   \n",
       "548    87.795112  131.610546   39.897306  139.580400  -40.735739  161.305996   \n",
       "...          ...         ...         ...         ...         ...         ...   \n",
       "835   217.608608  373.553672  122.925607  350.812242 -106.732354  429.612062   \n",
       "3264  106.590650  191.421799   60.083709  167.596796  -54.046059  207.130609   \n",
       "1653  210.745336  410.156668  101.198130  316.472471 -127.212435  401.068254   \n",
       "2607   25.574538   47.992997   15.007500   41.388483  -14.626243   51.549508   \n",
       "2732  210.872593  394.180611  126.703712  349.922211 -121.588010  429.836995   \n",
       "\n",
       "              6           7           8           9    ...         190  \\\n",
       "2673  1773.769671 -288.381256 -249.337957 -578.824709  ... -304.258443   \n",
       "1549  1219.928838 -213.931569 -171.170112 -361.329549  ... -194.264046   \n",
       "3772   688.899401 -110.213373  -91.513920 -205.617702  ... -115.548848   \n",
       "2729  1758.893046 -283.844632 -245.703667 -572.522186  ... -301.335337   \n",
       "548    400.569250  -86.973667  -73.943744 -116.492284  ...  -81.121110   \n",
       "...           ...         ...         ...         ...  ...         ...   \n",
       "835   1106.667081 -199.907240 -169.924016 -345.182630  ... -194.506519   \n",
       "3264   565.657838  -91.088393  -76.487172 -175.589842  ...  -96.038358   \n",
       "1653  1151.437317 -202.933869 -162.652538 -341.908327  ... -186.613759   \n",
       "2607   140.000083  -22.878698  -19.775231  -45.568758  ...  -23.918792   \n",
       "2732  1160.226966 -187.231461 -162.128334 -377.739265  ... -198.756249   \n",
       "\n",
       "            191         192         193        194         195         196  \\\n",
       "2673   0.042894  451.596534 -133.786345  77.617958 -375.970936  565.444821   \n",
       "1549  -0.391452  321.104409 -104.321982  67.713942 -249.131527  366.692309   \n",
       "3772  -2.044512  161.016381  -59.633787  31.593945 -152.203253  206.812005   \n",
       "2729   0.758796  443.396215 -132.265497  74.941466 -373.553248  559.824303   \n",
       "548   30.401582  110.239961  -12.416444  22.517521  -89.359811  112.151458   \n",
       "...         ...         ...         ...        ...         ...         ...   \n",
       "835   39.264924  305.744928  -64.149291  48.117198 -244.261556  342.032365   \n",
       "3264  -1.001547  136.527437  -45.845529  24.082291 -123.233374  174.012492   \n",
       "1653  -0.700054  302.114402  -97.315076  62.903766 -232.543036  344.518929   \n",
       "2607   0.016514   35.991889  -10.702594   6.104916  -29.652224   44.761979   \n",
       "2732   0.686914  292.417718  -87.316587  49.364454 -246.401727  369.189123   \n",
       "\n",
       "             197         198        199  \n",
       "2673  685.083569 -452.692942  31.076170  \n",
       "1549  464.051946 -286.382633  14.525135  \n",
       "3772  263.851646 -157.981918  11.575498  \n",
       "2729  679.778815 -449.067106  32.227386  \n",
       "548   159.030039 -102.190529 -19.888000  \n",
       "...          ...         ...        ...  \n",
       "835   423.903671 -276.967936 -20.237345  \n",
       "3264  218.276971 -136.888098  10.479167  \n",
       "1653  436.162285 -267.164956  16.594103  \n",
       "2607   53.783441  -35.479185   2.264670  \n",
       "2732  448.521485 -296.265734  21.286962  \n",
       "\n",
       "[3043 rows x 200 columns]"
      ]
     },
     "execution_count": 133,
     "metadata": {},
     "output_type": "execute_result"
    }
   ],
   "source": [
    "X_train_embed"
   ]
  },
  {
   "cell_type": "code",
   "execution_count": 134,
   "metadata": {},
   "outputs": [],
   "source": [
    "from numpy import inf  # substitues all infite values of a numpy array with the maximum float64 number\n",
    "y_train_embed[y_train_embed == inf] = np.finfo(np.float64).max"
   ]
  },
  {
   "cell_type": "code",
   "execution_count": 135,
   "metadata": {},
   "outputs": [
    {
     "data": {
      "text/plain": [
       "True"
      ]
     },
     "execution_count": 135,
     "metadata": {},
     "output_type": "execute_result"
    }
   ],
   "source": [
    "np.all(np.isfinite(y_train_embed))"
   ]
  },
  {
   "cell_type": "markdown",
   "metadata": {},
   "source": [
    "Applying logistic regression to our word embeddings representation."
   ]
  },
  {
   "cell_type": "code",
   "execution_count": 136,
   "metadata": {},
   "outputs": [
    {
     "name": "stdout",
     "output_type": "stream",
     "text": [
      "f1 score:  0.9757738896366084\n"
     ]
    }
   ],
   "source": [
    "lr_model_all.fit(X_train_embed, y_train_embed)\n",
    "test_pred_lr_all = lr_model_all.predict(X_test_embed)\n",
    "\n",
    "print(\"f1 score: \",f1_score(y_test_embed, test_pred_lr_all))"
   ]
  },
  {
   "cell_type": "markdown",
   "metadata": {},
   "source": [
    "As we see the f1 score here is higher than TF_IDF (97.02%) and BoW (97.38%) using the Logistic Regression method. Also, we have to note that we're reducing 7260 features to 200 which is a lot of reduction in the feature space which affects on the model performance. In contrast the computational expenses are going to greatly decrease. In general the approach that we follow in this notebook is to build a model based on the features and then we do the prediction using other reviews and predict the sentiment of the user. So, if another review will be posted we can predict with a 97.58% of f1 score what its sentiment is, if it's positive or negative against the product."
   ]
  },
  {
   "cell_type": "markdown",
   "metadata": {},
   "source": [
    "### 12.2 Applying Linear Support Vector Machine to Word Embeddings (LSVM) Features  "
   ]
  },
  {
   "cell_type": "code",
   "execution_count": 140,
   "metadata": {},
   "outputs": [
    {
     "data": {
      "text/plain": [
       "LinearSVC(C=20)"
      ]
     },
     "execution_count": 140,
     "metadata": {},
     "output_type": "execute_result"
    }
   ],
   "source": [
    "from sklearn.svm import LinearSVC\n",
    "from sklearn.metrics import classification_report\n",
    "\n",
    "clf_model_all_new = LinearSVC(C= 20)\n",
    "clf_model_all_new.fit(X_train_embed, y_train_embed)"
   ]
  },
  {
   "cell_type": "code",
   "execution_count": 138,
   "metadata": {},
   "outputs": [
    {
     "name": "stdout",
     "output_type": "stream",
     "text": [
      "f1 score:  0.9406838799720866\n"
     ]
    }
   ],
   "source": [
    "test_pred_clf_all = clf_model_all_new.predict(X_test_embed)\n",
    "\n",
    "print(\"f1 score: \", f1_score(y_test_embed,test_pred_clf_all))"
   ]
  },
  {
   "cell_type": "markdown",
   "metadata": {},
   "source": [
    "As we see the f1 score here is lower than TF_IDF (97.27%) and BoW (98.09%) using the LSVM. "
   ]
  },
  {
   "cell_type": "code",
   "execution_count": 139,
   "metadata": {},
   "outputs": [
    {
     "data": {
      "image/png": "[encoded data removed]",
      "text/plain": [
       "<Figure size 1008x432 with 1 Axes>"
      ]
     },
     "metadata": {},
     "output_type": "display_data"
    },
    {
     "data": {
      "text/plain": [
       "<Figure size 288x576 with 0 Axes>"
      ]
     },
     "metadata": {},
     "output_type": "display_data"
    }
   ],
   "source": [
    "import matplotlib.pyplot as plt  \n",
    "from sklearn import datasets, metrics, model_selection, svm\n",
    "\n",
    "\n",
    "lr_model_all_new.fit(X_train_embed, y_train_embed)\n",
    "\n",
    "log_disp2 = metrics.plot_roc_curve(lr_model_all_new, X_test_embed, y_test_embed) \n",
    "clf_disp2 = metrics.plot_roc_curve(clf_model_all_new, X_test_embed, y_test_embed, ax = log_disp2.ax_)\n",
    "\n",
    "clf_disp.figure_.suptitle(\"Word Embeddings ROC curve comparison\")\n",
    "plt.figure(figsize=(4,8))\n",
    "plt.show()"
   ]
  },
  {
   "cell_type": "markdown",
   "metadata": {},
   "source": [
    "ROC Curve comparison shows that the area under curve for LR Classifier is higher than LSVM (0.67 vs 0.56) and as result it has higher performance.Looking at the f1-scores of these models, we can see that the LSVM model has a less score than LR (94.07% vs 97.58%). "
   ]
  },
  {
   "cell_type": "markdown",
   "metadata": {},
   "source": [
    "### Summary and Conclusion"
   ]
  },
  {
   "cell_type": "markdown",
   "metadata": {},
   "source": [
    "In this project, we cleaned up and featurized an Amazon reviews dataset and built some classification models on these featurizations to predict sentiment. Three major steps of text data analyzing that were used are: \n",
    "- Vectorizing process, which converted the text data into a numerical feature vector by splitting it into words or tokens. \n",
    "- Transforming process to find the occurrence of each word in a document. This process is primarily used for feature extraction. \n",
    "- Classifier or model training for accurate predictions. The model used training and testing dataset to optimize its overall performance.\n",
    " \n",
    "Building machine learning models on text is a very involved discipline. Some important things of note are as follows:\n",
    " \n",
    "- Although there are different types of pre-processing involved in textual data, not everything has to be applied in each case. For instance, when dealing with text messages special characters might represent important information and need not be removed. Furthermore, upper case may mean someone is angry and represents shouting, so this case may not need to be normalized either.\n",
    "- Hyperparameter tuning in machine learning models is a very important step. We can't go ahead training a model with default parameters. Different sets of parameters have to be tried to see what contributes to the best model.\n",
    "- Every NLP classification task is different, but the process to be followed is similar to what we did in this case, working on data → create features from text → train ML models.\n",
    " \n",
    "The results show that bag-of-words and TF-IDF both gave interpretable features, while word embeddings did not really. Through increasing the set of n-grams we used from 1-grams to up to 3-grams, we were able to get our Logistic Regression model accuracy up to 97.89%.\n",
    "\n",
    "By comparing three models (bag-of-words, TF-IDF and word-embeddings) Word Embeddings model performed better than BoW and TF-IDF representations, using Logistic Regression and worse using Linear Support Vector Machine Algorithms. Furthermore, although Word Embeddings were really effective at reducing the overall number of dimensions, it suffers from the problem of interpretability in some cases. This means that it is very hard for us to even diagnose what is causing its sub-par performance.\n",
    "\n",
    "Comparing the three featured models using LR and LSVM also shows that LSVM had higher accuracy than LR in bag-of-words and TF_IDF and in Word Embeddings the LR had higher accuracy than LSVM.\n",
    "\n",
    "In the future research we can try using a tree based classifier ensemble to capture non-linearity and interactions between the features such as random forest. Related to the cleaning text we can also do more detailed processing such as remove hyperlinks, remove typo words, ...\n"
   ]
  },
  {
   "cell_type": "markdown",
   "metadata": {},
   "source": [
    "### 13. References\n",
    "\n",
    "- [1]:  https://www.youtube.com/watch?v=6WpnxmmkYys\n",
    "- [2]:  https://www.guru99.com/nltk-tutorial.html\n",
    "- [3]:  https://www.sas.com/en_us/insights/analytics/what-is-natural-language-processing-nlp.html\n",
    "- [4]:  https://medium.com/@qempsil0914/machine-learning-nlp-text-classification-with-amazon-review-data-using-python3-step-by-step-3fb0cc0cecc1\n",
    "- [5]:  https://nlp.stanford.edu/IR-book/html/htmledition/stemming-and-lemmatization-1.html\n",
    "- [6]:  https://www.datacamp.com/community/tutorials/stemming-lemmatization-python\n",
    "- [7]:  https://aws.amazon.com/blogs/machine-learning/detect-sentiment-from-customer-reviews-using-amazon-comprehend/\n",
    "- [8]:  https://nycdatascience.com/blog/student-works/sentiment-analysis-and-prediction-amazon/"
   ]
  },
  {
   "cell_type": "code",
   "execution_count": null,
   "metadata": {},
   "outputs": [],
   "source": []
  }
 ],
 "metadata": {
  "kernelspec": {
   "display_name": "Python 3",
   "language": "python",
   "name": "python3"
  },
  "language_info": {
   "codemirror_mode": {
    "name": "ipython",
    "version": 3
   },
   "file_extension": ".py",
   "mimetype": "text/x-python",
   "name": "python",
   "nbconvert_exporter": "python",
   "pygments_lexer": "ipython3",
   "version": "3.8.8"
  }
 },
 "nbformat": 4,
 "nbformat_minor": 4
}
